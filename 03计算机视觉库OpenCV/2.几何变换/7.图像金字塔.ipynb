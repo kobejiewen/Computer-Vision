{
 "cells": [
  {
   "cell_type": "markdown",
   "metadata": {},
   "source": [
    "### 图像金字塔\n",
    "一般情况下，我们要处理是一副具有固定分辨率的图像。但是有些情况下，我们需要对同一图像的不同分辨率的子图像进行处理。比如，我们要在一幅图像中查找某个目标，比如脸，我们不知道目标在图像中的尺寸大小。这种情况下，我们需要创建创建一组图像，这些图像是具有不同分辨率的原始图像。我们把这组图像叫做图像金字塔（简单来说就是同一图像的不同分辨率的子图集合）。如果我们把最大的图像放在底部，最小的放在顶部，看起来像一座金字塔，故而得名图像金字塔。  \n",
    "<center><img src=\"pyramid.png\" alt=\"FAO\" width=\"500\"></center>\n",
    "\n",
    "### 高斯金字塔\n",
    "高斯金字塔的顶部是通过将底部图像中的连续的行和列去除得到的。顶部图像中的每个像素值等于下一层图像中 5 个像素的高斯加权平均值。这样操作一次一个 MxN 的图像就变成了一个 M/2×N/2 的图像。所以这幅图像的面积就变为原来图像面积的四分之一。连续进行这样的操作我们就会得到一个分辨率不断下降的图像金字塔。我们可以使用函数cv2.pyrDown() 和 cv2.pyrUp() 构建图像金字塔。\n",
    "\n",
    "### 拉普拉斯金字塔\n",
    "拉普拉斯金字塔可以由高斯金字塔计算得来，公式如下：\n",
    "<center>$L_i=G_i-pyrUp(G_{i+1})$</center>\n",
    "拉普拉金字塔的图像看起来就像边界图，其中很多像素都是 0。"
   ]
  },
  {
   "cell_type": "code",
   "execution_count": 2,
   "metadata": {},
   "outputs": [],
   "source": [
    "from imutils import *"
   ]
  },
  {
   "cell_type": "code",
   "execution_count": 3,
   "metadata": {},
   "outputs": [
    {
     "data": {
      "text/plain": [
       "(424, 600, 3)"
      ]
     },
     "execution_count": 3,
     "metadata": {},
     "output_type": "execute_result"
    }
   ],
   "source": [
    "image = imread('image.jpg')\n",
    "show(image)\n",
    "image.shape"
   ]
  },
  {
   "cell_type": "code",
   "execution_count": 4,
   "metadata": {},
   "outputs": [
    {
     "name": "stdout",
     "output_type": "stream",
     "text": [
      "(212, 300, 3)\n",
      "(106, 150, 3)\n",
      "(53, 75, 3)\n",
      "(27, 38, 3)\n"
     ]
    }
   ],
   "source": [
    "for i in range(4):\n",
    "    image = cv2.pyrDown(image)\n",
    "    print(image.shape)\n",
    "    show(image)"
   ]
  },
  {
   "cell_type": "code",
   "execution_count": 5,
   "metadata": {},
   "outputs": [
    {
     "name": "stdout",
     "output_type": "stream",
     "text": [
      "(54, 76, 3)\n",
      "(108, 152, 3)\n",
      "(216, 304, 3)\n",
      "(432, 608, 3)\n"
     ]
    }
   ],
   "source": [
    "for i in range(4):\n",
    "    image = cv2.pyrUp(image)\n",
    "    print(image.shape)\n",
    "    show(image)"
   ]
  },
  {
   "cell_type": "code",
   "execution_count": 6,
   "metadata": {},
   "outputs": [],
   "source": [
    "# 拉普拉斯金字塔\n",
    "image = imread('image.jpg')\n",
    "down_image1 = cv2.pyrDown(image)\n",
    "down_image2 = cv2.pyrDown(down_image1)\n",
    "up_image = cv2.pyrUp(down_image2)\n",
    "laplacian = down_image1-up_image\n",
    "show(laplacian)"
   ]
  },
  {
   "cell_type": "code",
   "execution_count": null,
   "metadata": {
    "collapsed": true
   },
   "outputs": [],
   "source": []
  }
 ],
 "metadata": {
  "anaconda-cloud": {},
  "kernelspec": {
   "display_name": "Python 3",
   "language": "python",
   "name": "python3"
  },
  "language_info": {
   "codemirror_mode": {
    "name": "ipython",
    "version": 3
   },
   "file_extension": ".py",
   "mimetype": "text/x-python",
   "name": "python",
   "nbconvert_exporter": "python",
   "pygments_lexer": "ipython3",
   "version": "3.7.1"
  }
 },
 "nbformat": 4,
 "nbformat_minor": 1
}
