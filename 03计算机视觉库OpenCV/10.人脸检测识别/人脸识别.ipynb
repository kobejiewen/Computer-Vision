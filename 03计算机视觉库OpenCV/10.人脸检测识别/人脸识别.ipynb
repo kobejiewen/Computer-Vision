{
 "cells": [
  {
   "cell_type": "markdown",
   "metadata": {},
   "source": [
    "### 1.采集人脸样本"
   ]
  },
  {
   "cell_type": "code",
   "execution_count": 17,
   "metadata": {},
   "outputs": [],
   "source": [
    "# 系统操作\n",
    "import os\n",
    "# 判断文件类型\n",
    "import imghdr\n",
    "from imutils import *"
   ]
  },
  {
   "cell_type": "code",
   "execution_count": 3,
   "metadata": {},
   "outputs": [],
   "source": [
    "# 人脸检测并保存人脸\n",
    "def facedetect(image, output):\n",
    "    # 获取文件名\n",
    "    name = os.path.basename(image)\n",
    "    # 读入图片\n",
    "    image = cv2.imread(image)\n",
    "    # 变成灰度图\n",
    "    image = cv2.cvtColor(image, cv2.COLOR_BGR2GRAY)\n",
    "    # 级联分类器，检测人脸\n",
    "    detector = cv2.CascadeClassifier(\"haarcascade_frontalface_alt.xml\")\n",
    "    rects = detector.detectMultiScale(image, scaleFactor=1.1, minNeighbors=3, minSize=(20, 20), flags=cv2.CASCADE_SCALE_IMAGE)\n",
    "    # 循环每个人脸\n",
    "    for (x,y,w,h) in rects:\n",
    "        # 截取人脸，并且都转化为200*200的固定大小\n",
    "        f = cv2.resize(image[y:y+h, x:x+w], (200,200))\n",
    "        # 写入指定路径\n",
    "        cv2.imwrite(os.path.join(output, name), f)"
   ]
  },
  {
   "cell_type": "code",
   "execution_count": 5,
   "metadata": {},
   "outputs": [],
   "source": [
    "# 检测并截取人脸\n",
    "def predict_face(path, output):\n",
    "    # 如果该文件夹不存在则创建文件夹\n",
    "    if not os.path.exists(output):\n",
    "        os.makedirs(output)\n",
    "    # 循环每个人物的文件夹下的图片\n",
    "    for files in os.listdir(path):\n",
    "        # 检测是不是文件夹\n",
    "        if os.path.isdir(os.path.join(path, files)):\n",
    "            # 定义截取到的人脸的输出路径\n",
    "            output2 = os.path.join(output, files)\n",
    "            # 如果该文件夹不存在则创建文件夹\n",
    "            if not os.path.exists(output2):\n",
    "                os.makedirs(output2)\n",
    "            # 人物文件夹的完整路径\n",
    "            files = os.path.join(path, files)\n",
    "            # 循环每个人的每张照片\n",
    "            for file in os.listdir(files):\n",
    "                # 照片完整路径\n",
    "                file = os.path.join(files, file)\n",
    "                # 检测人脸并保存\n",
    "                facedetect(file, output2)"
   ]
  },
  {
   "cell_type": "code",
   "execution_count": 6,
   "metadata": {},
   "outputs": [],
   "source": [
    "predict_face('faces', 'predict_faces')"
   ]
  },
  {
   "cell_type": "markdown",
   "metadata": {},
   "source": [
    "### 2.生成label"
   ]
  },
  {
   "cell_type": "code",
   "execution_count": 8,
   "metadata": {},
   "outputs": [],
   "source": [
    "# 生成label文件\n",
    "def get_label(path):\n",
    "    fh = open(\"label.txt\", 'w')\n",
    "    # 表示人脸label\n",
    "    label = 0\n",
    "    for root, dirs, files in os.walk(path):\n",
    "        # 循环每个文件夹\n",
    "        for subdir in dirs:\n",
    "            # 文件夹完整路径\n",
    "            subdir_path = os.path.join(root,subdir)\n",
    "            # 循环每个人物文件夹下面每张照片\n",
    "            for file in os.listdir(subdir_path):\n",
    "                # 照片完整路径\n",
    "                filepath = os.path.join(subdir_path, file)\n",
    "                # 判断文件类型是不是图片类型\n",
    "                imgType = imghdr.what(filepath)\n",
    "                if imgType == 'jpeg' or imgType == 'png':\n",
    "                    # 保存图片路径\n",
    "                    fh.write(filepath);\n",
    "                    fh.write(\";\")\n",
    "                    # 标签\n",
    "                    fh.write(str(label))\n",
    "                    fh.write(\"\\n\")\n",
    "            # 每个人的标签不一样，从0开始计数\n",
    "            label = label + 1            \n",
    "    fh.close()"
   ]
  },
  {
   "cell_type": "code",
   "execution_count": 9,
   "metadata": {},
   "outputs": [],
   "source": [
    "get_label('predict_faces')"
   ]
  },
  {
   "cell_type": "markdown",
   "metadata": {},
   "source": [
    "### 3.训练自己的数据模型"
   ]
  },
  {
   "cell_type": "code",
   "execution_count": 18,
   "metadata": {},
   "outputs": [
    {
     "ename": "AttributeError",
     "evalue": "module 'cv2.cv2' has no attribute 'face'",
     "output_type": "error",
     "traceback": [
      "\u001b[0;31m---------------------------------------------------------------------------\u001b[0m",
      "\u001b[0;31mAttributeError\u001b[0m                            Traceback (most recent call last)",
      "\u001b[0;32m<ipython-input-18-46b63a2c1b5b>\u001b[0m in \u001b[0;36m<module>\u001b[0;34m()\u001b[0m\n\u001b[1;32m     19\u001b[0m \u001b[0;31m# pip install opencv-contrib-python\u001b[0m\u001b[0;34m\u001b[0m\u001b[0;34m\u001b[0m\u001b[0;34m\u001b[0m\u001b[0m\n\u001b[1;32m     20\u001b[0m \u001b[0;31m# 定义人脸识别模型\u001b[0m\u001b[0;34m\u001b[0m\u001b[0;34m\u001b[0m\u001b[0;34m\u001b[0m\u001b[0m\n\u001b[0;32m---> 21\u001b[0;31m \u001b[0mmodel\u001b[0m \u001b[0;34m=\u001b[0m \u001b[0mcv2\u001b[0m\u001b[0;34m.\u001b[0m\u001b[0mface\u001b[0m\u001b[0;34m.\u001b[0m\u001b[0mEigenFaceRecognizer_create\u001b[0m\u001b[0;34m(\u001b[0m\u001b[0;34m)\u001b[0m\u001b[0;34m\u001b[0m\u001b[0;34m\u001b[0m\u001b[0m\n\u001b[0m\u001b[1;32m     22\u001b[0m \u001b[0;31m# model = cv2.face.FisherFaceRecognizer_create()\u001b[0m\u001b[0;34m\u001b[0m\u001b[0;34m\u001b[0m\u001b[0;34m\u001b[0m\u001b[0m\n\u001b[1;32m     23\u001b[0m \u001b[0;31m# model = cv2.face.LBPHFaceRecognizer_create()\u001b[0m\u001b[0;34m\u001b[0m\u001b[0;34m\u001b[0m\u001b[0;34m\u001b[0m\u001b[0m\n",
      "\u001b[0;31mAttributeError\u001b[0m: module 'cv2.cv2' has no attribute 'face'"
     ]
    }
   ],
   "source": [
    "# 保存图片数据\n",
    "images = []\n",
    "# 保存标签\n",
    "labels = []\n",
    "# 打开文件\n",
    "fh = open(\"label.txt\")\n",
    "# 循环每一行\n",
    "for line in fh:\n",
    "    # 以;切分字符串\n",
    "    arr = line.split(\";\")\n",
    "    # 第0部分为图片路径，读取文件\n",
    "    img = cv2.imread(arr[0],0)\n",
    "    # 保存图片数据\n",
    "    images.append(img)\n",
    "    # 保存对应的标签数据\n",
    "    labels.append(int(arr[1]))\n",
    "    \n",
    "# 安装opencv扩展包\n",
    "# pip install opencv-contrib-python\n",
    "# 定义人脸识别模型\n",
    "model = cv2.face.EigenFaceRecognizer_create()\n",
    "# model = cv2.face.FisherFaceRecognizer_create()\n",
    "# model = cv2.face.LBPHFaceRecognizer_create()\n",
    "# 训练模型\n",
    "model.train(np.array(images), np.array(labels))\n",
    "# 保存模型\n",
    "model.save(\"predict_face_XiaoMing_AB.xml\")"
   ]
  },
  {
   "cell_type": "markdown",
   "metadata": {},
   "source": [
    "### 4.人脸识别"
   ]
  },
  {
   "cell_type": "code",
   "execution_count": 16,
   "metadata": {},
   "outputs": [
    {
     "ename": "AttributeError",
     "evalue": "module 'cv2.cv2' has no attribute 'face'",
     "output_type": "error",
     "traceback": [
      "\u001b[0;31m---------------------------------------------------------------------------\u001b[0m",
      "\u001b[0;31mAttributeError\u001b[0m                            Traceback (most recent call last)",
      "\u001b[0;32m<ipython-input-16-93b406ce0614>\u001b[0m in \u001b[0;36m<module>\u001b[0;34m()\u001b[0m\n\u001b[1;32m      2\u001b[0m \u001b[0mname\u001b[0m\u001b[0;34m=\u001b[0m \u001b[0;34m[\u001b[0m\u001b[0;34m'ab'\u001b[0m\u001b[0;34m,\u001b[0m\u001b[0;34m'xiaoming'\u001b[0m\u001b[0;34m]\u001b[0m\u001b[0;34m\u001b[0m\u001b[0;34m\u001b[0m\u001b[0m\n\u001b[1;32m      3\u001b[0m \u001b[0;31m# 定义人脸识别模型\u001b[0m\u001b[0;34m\u001b[0m\u001b[0;34m\u001b[0m\u001b[0;34m\u001b[0m\u001b[0m\n\u001b[0;32m----> 4\u001b[0;31m \u001b[0mmodel\u001b[0m \u001b[0;34m=\u001b[0m \u001b[0mcv2\u001b[0m\u001b[0;34m.\u001b[0m\u001b[0mface\u001b[0m\u001b[0;34m.\u001b[0m\u001b[0mEigenFaceRecognizer_create\u001b[0m\u001b[0;34m(\u001b[0m\u001b[0;34m)\u001b[0m\u001b[0;34m\u001b[0m\u001b[0;34m\u001b[0m\u001b[0m\n\u001b[0m\u001b[1;32m      5\u001b[0m \u001b[0;31m# 载入训练好的模型\u001b[0m\u001b[0;34m\u001b[0m\u001b[0;34m\u001b[0m\u001b[0;34m\u001b[0m\u001b[0m\n\u001b[1;32m      6\u001b[0m \u001b[0mmodel\u001b[0m\u001b[0;34m.\u001b[0m\u001b[0mread\u001b[0m\u001b[0;34m(\u001b[0m\u001b[0;34m'predict_face_XiaoMing_AB.xml'\u001b[0m\u001b[0;34m)\u001b[0m\u001b[0;34m\u001b[0m\u001b[0;34m\u001b[0m\u001b[0m\n",
      "\u001b[0;31mAttributeError\u001b[0m: module 'cv2.cv2' has no attribute 'face'"
     ]
    }
   ],
   "source": [
    "# 定义人物名字\n",
    "name= ['ab','xiaoming']\n",
    "# 定义人脸识别模型\n",
    "model = cv2.face.EigenFaceRecognizer_create()\n",
    "# 载入训练好的模型\n",
    "model.read('predict_face_XiaoMing_AB.xml')\n",
    "\n",
    "# 读入测试图片来做测试\n",
    "for file in os.listdir('test'):\n",
    "    file = os.path.join('test', file)\n",
    "    # 判断文件类型\n",
    "    imgType = imghdr.what(file)\n",
    "    if imgType == 'jpeg' or imgType == 'png':\n",
    "        # 读入图片\n",
    "        image = imread(file)\n",
    "        # 变为灰度图\n",
    "        gray = cv2.cvtColor(image,cv2.COLOR_BGR2GRAY)\n",
    "        # 级联分类器\n",
    "        detector = cv2.CascadeClassifier(\"haarcascade_frontalface_alt.xml\")\n",
    "        rects = detector.detectMultiScale(gray, scaleFactor=1.1, minNeighbors=3, minSize=(20, 20), flags=cv2.CASCADE_SCALE_IMAGE)\n",
    "        # 循环每个人脸\n",
    "        for (x,y,w,h) in rects:\n",
    "            # 画矩形框\n",
    "            cv2.rectangle(image, (x,y), (x+w,y+h), (0,255,0), 2)\n",
    "            # 人脸识别\n",
    "            face = cv2.resize(gray[y:y+h,x:x+w], (200,200))\n",
    "            # 预测人物\n",
    "            params = model.predict(face)\n",
    "            # 写上人物名字\n",
    "            cv2.putText(image,name[params[0]],(x,y-20),cv2.FONT_HERSHEY_SIMPLEX,1,(255,0,0),2)\n",
    "        show(image)"
   ]
  },
  {
   "cell_type": "code",
   "execution_count": null,
   "metadata": {
    "collapsed": true
   },
   "outputs": [],
   "source": []
  },
  {
   "cell_type": "code",
   "execution_count": null,
   "metadata": {
    "collapsed": true
   },
   "outputs": [],
   "source": []
  }
 ],
 "metadata": {
  "anaconda-cloud": {},
  "kernelspec": {
   "display_name": "Python 3",
   "language": "python",
   "name": "python3"
  },
  "language_info": {
   "codemirror_mode": {
    "name": "ipython",
    "version": 3
   },
   "file_extension": ".py",
   "mimetype": "text/x-python",
   "name": "python",
   "nbconvert_exporter": "python",
   "pygments_lexer": "ipython3",
   "version": "3.7.1"
  }
 },
 "nbformat": 4,
 "nbformat_minor": 2
}
