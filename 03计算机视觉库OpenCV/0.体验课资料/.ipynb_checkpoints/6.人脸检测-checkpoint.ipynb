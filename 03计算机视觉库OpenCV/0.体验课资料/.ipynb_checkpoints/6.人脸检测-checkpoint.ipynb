{
 "cells": [
  {
   "cell_type": "code",
   "execution_count": 1,
   "metadata": {},
   "outputs": [],
   "source": [
    "from imutils import *"
   ]
  },
  {
   "cell_type": "code",
   "execution_count": 2,
   "metadata": {},
   "outputs": [],
   "source": [
    "image = imread('face.png')\n",
    "show(image)"
   ]
  },
  {
   "cell_type": "markdown",
   "metadata": {},
   "source": [
    "1. image：输入图像 \n",
    "2. scaleFactor=1.1：这个是每次缩小图像的比例，默认是1.1 \n",
    "3. minNeighbors=3：匹配成功所需要的周围矩形框的数目，每一个特征匹配到的区域都是一个矩形框，只有多个矩形框同时存在的时候，才认为是匹配成功，比如人脸，这个默认值是3。 \n",
    "4. minSize：匹配人脸的最小范围 \n",
    "5. flags=0：可以取如下这些值：  \n",
    "CASCADE_DO_CANNY_PRUNING=1, 利用canny边缘检测来排除一些边缘很少或者很多的图像区域  \n",
    "CASCADE_SCALE_IMAGE=2, 正常比例检测  \n",
    "CASCADE_FIND_BIGGEST_OBJECT=4, 只检测最大的物体  \n",
    "CASCADE_DO_ROUGH_SEARCH=8 初略的检测  "
   ]
  },
  {
   "cell_type": "code",
   "execution_count": 3,
   "metadata": {},
   "outputs": [],
   "source": [
    "# 级联分类器\n",
    "detector = cv2.CascadeClassifier(\"haarcascade_frontalface_default.xml\")\n",
    "rects = detector.detectMultiScale(image, scaleFactor=1.1, minNeighbors=2, minSize=(10, 10), flags=cv2.CASCADE_SCALE_IMAGE)\n",
    "\n",
    "for (x,y,w,h) in rects:\n",
    "    # 画矩形框\n",
    "    cv2.rectangle(image, (x,y), (x+w,y+h), (0,255,0), 2)\n",
    "    \n",
    "show(image)"
   ]
  },
  {
   "cell_type": "code",
   "execution_count": 4,
   "metadata": {},
   "outputs": [],
   "source": [
    "def facedetect(image):\n",
    "    image = imread(image)\n",
    "    # 级联分类器\n",
    "    detector = cv2.CascadeClassifier(\"haarcascade_frontalface_default.xml\")\n",
    "    rects = detector.detectMultiScale(image, scaleFactor=1.1, minNeighbors=3, minSize=(10, 10), flags=cv2.CASCADE_SCALE_IMAGE)\n",
    "\n",
    "    for (x,y,w,h) in rects:\n",
    "        # 画矩形框\n",
    "        cv2.rectangle(image, (x,y), (x+w,y+h), (0,255,0), 2)\n",
    "\n",
    "    show(image)"
   ]
  },
  {
   "cell_type": "code",
   "execution_count": 7,
   "metadata": {},
   "outputs": [],
   "source": [
    "facedetect('Solvay.jpg')"
   ]
  },
  {
   "cell_type": "code",
   "execution_count": null,
   "metadata": {
    "collapsed": true
   },
   "outputs": [],
   "source": []
  }
 ],
 "metadata": {
  "anaconda-cloud": {},
  "kernelspec": {
   "display_name": "Python 3",
   "language": "python",
   "name": "python3"
  },
  "language_info": {
   "codemirror_mode": {
    "name": "ipython",
    "version": 3
   },
   "file_extension": ".py",
   "mimetype": "text/x-python",
   "name": "python",
   "nbconvert_exporter": "python",
   "pygments_lexer": "ipython3",
   "version": "3.7.1"
  }
 },
 "nbformat": 4,
 "nbformat_minor": 1
}
