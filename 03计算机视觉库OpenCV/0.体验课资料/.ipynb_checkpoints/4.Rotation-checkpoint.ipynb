{
 "cells": [
  {
   "cell_type": "code",
   "execution_count": 2,
   "metadata": {},
   "outputs": [],
   "source": [
    "import cv2\n",
    "import matplotlib.pyplot as plt\n",
    "import numpy as np"
   ]
  },
  {
   "cell_type": "code",
   "execution_count": 3,
   "metadata": {},
   "outputs": [],
   "source": [
    "def show(image):\n",
    "    plt.imshow(image)\n",
    "    plt.axis('off')\n",
    "    plt.show()\n",
    "    \n",
    "def imread(image):\n",
    "    image = cv2.imread(image)\n",
    "    image = cv2.cvtColor(image,cv2.COLOR_BGR2RGB)\n",
    "    return image"
   ]
  },
  {
   "cell_type": "code",
   "execution_count": 5,
   "metadata": {},
   "outputs": [],
   "source": [
    "image = imread('image.jpg')\n",
    "show(image)"
   ]
  },
  {
   "cell_type": "code",
   "execution_count": 11,
   "metadata": {},
   "outputs": [
    {
     "name": "stdout",
     "output_type": "stream",
     "text": [
      "1440 1080\n",
      "540.0 720.0\n"
     ]
    }
   ],
   "source": [
    "image = imread('image.jpg')\n",
    "(h,w) = image.shape[:2]\n",
    "print(h,w)\n",
    "(cX,cY) = (w/2,h/2)\n",
    "print(cX,cY)\n",
    "\n",
    "# (cX,cY)-旋转中心点\n",
    "# 45-逆时针旋转45度\n",
    "# 1.0-缩放\n",
    "M = cv2.getRotationMatrix2D((cX,cY), 45, 1.0)\n",
    "image = cv2.warpAffine(image, M, (w,h))\n",
    "show(image)"
   ]
  },
  {
   "cell_type": "code",
   "execution_count": 12,
   "metadata": {},
   "outputs": [],
   "source": [
    "image = imread('image.jpg')\n",
    "(h,w) = image.shape[:2]\n",
    "(cX,cY) = (w/2,h/2)\n",
    "\n",
    "# (cX,cY)-旋转中心点\n",
    "# 45-顺时针旋转45度\n",
    "# 1.0-缩放\n",
    "M = cv2.getRotationMatrix2D((cX,cY), -45, 1.0)\n",
    "image = cv2.warpAffine(image, M, (w,h))\n",
    "show(image)"
   ]
  },
  {
   "cell_type": "code",
   "execution_count": 13,
   "metadata": {},
   "outputs": [],
   "source": [
    "image = imread('image.jpg')\n",
    "(h,w) = image.shape[:2]\n",
    "(cX,cY) = (w/2,h/2)\n",
    "\n",
    "# (cX,cY)-旋转中心点\n",
    "# 45-逆时针旋转45度\n",
    "# 1.0-缩放\n",
    "M = cv2.getRotationMatrix2D((cX,cY), 45, 2.0)\n",
    "image = cv2.warpAffine(image, M, (w,h))\n",
    "show(image)"
   ]
  },
  {
   "cell_type": "code",
   "execution_count": 15,
   "metadata": {},
   "outputs": [],
   "source": [
    "image = imread('image.jpg')\n",
    "(h,w) = image.shape[:2]\n",
    "(cX,cY) = (w/2,h/2)\n",
    "\n",
    "# (cX,cY)-旋转中心点\n",
    "# 45-逆时针旋转45度\n",
    "# 1.0-缩放\n",
    "M = cv2.getRotationMatrix2D((cX,cY), 45, 0.5)\n",
    "image = cv2.warpAffine(image, M, (w,h))\n",
    "show(image)"
   ]
  },
  {
   "cell_type": "code",
   "execution_count": 16,
   "metadata": {},
   "outputs": [],
   "source": [
    "image = imread('image.jpg')\n",
    "(h,w) = image.shape[:2]\n",
    "(cX,cY) = (w/2,h/2)\n",
    "\n",
    "# (cX-200,cY-200)-旋转中心点\n",
    "# 45-逆时针旋转45度\n",
    "# 1.0-缩放\n",
    "M = cv2.getRotationMatrix2D((cX-200,cY-200), 45, 1.0)\n",
    "image = cv2.warpAffine(image, M, (w,h))\n",
    "show(image)"
   ]
  },
  {
   "cell_type": "code",
   "execution_count": null,
   "metadata": {
    "collapsed": true
   },
   "outputs": [],
   "source": []
  }
 ],
 "metadata": {
  "anaconda-cloud": {},
  "kernelspec": {
   "display_name": "Python 3",
   "language": "python",
   "name": "python3"
  },
  "language_info": {
   "codemirror_mode": {
    "name": "ipython",
    "version": 3
   },
   "file_extension": ".py",
   "mimetype": "text/x-python",
   "name": "python",
   "nbconvert_exporter": "python",
   "pygments_lexer": "ipython3",
   "version": "3.7.1"
  }
 },
 "nbformat": 4,
 "nbformat_minor": 1
}
