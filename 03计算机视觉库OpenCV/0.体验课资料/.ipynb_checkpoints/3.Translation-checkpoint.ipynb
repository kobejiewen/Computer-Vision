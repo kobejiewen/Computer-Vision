{
 "cells": [
  {
   "cell_type": "code",
   "execution_count": 2,
   "metadata": {},
   "outputs": [],
   "source": [
    "import cv2\n",
    "import matplotlib.pyplot as plt\n",
    "import numpy as np"
   ]
  },
  {
   "cell_type": "code",
   "execution_count": 3,
   "metadata": {},
   "outputs": [],
   "source": [
    "def show(image):\n",
    "    plt.imshow(image)\n",
    "    plt.axis('off')\n",
    "    plt.show()\n",
    "    \n",
    "def imread(image):\n",
    "    image = cv2.imread(image)\n",
    "    #cv2默认为bgr顺序\n",
    "    image = cv2.cvtColor(image,cv2.COLOR_BGR2RGB)\n",
    "    return image"
   ]
  },
  {
   "cell_type": "code",
   "execution_count": 7,
   "metadata": {},
   "outputs": [
    {
     "name": "stdout",
     "output_type": "stream",
     "text": [
      "[[  1.   0. 250.]\n",
      " [  0.   1. 500.]]\n",
      "1080\n",
      "1440\n"
     ]
    }
   ],
   "source": [
    "image = imread('image.jpg')\n",
    "M = np.float32([[1,0,250],[0,1,500]])\n",
    "print(M)\n",
    "print(image.shape[1])\n",
    "print(image.shape[0])\n",
    "shifted = cv2.warpAffine(image, M, (image.shape[1],image.shape[0]))\n",
    "show(shifted)"
   ]
  },
  {
   "cell_type": "code",
   "execution_count": 10,
   "metadata": {},
   "outputs": [],
   "source": [
    "image = imread('image.jpg')\n",
    "M = np.float32([[1,0,-250],[0,1,-500]])\n",
    "shifted = cv2.warpAffine(image, M, (image.shape[1],image.shape[0]))\n",
    "show(shifted)"
   ]
  },
  {
   "cell_type": "code",
   "execution_count": null,
   "metadata": {
    "collapsed": true
   },
   "outputs": [],
   "source": []
  }
 ],
 "metadata": {
  "kernelspec": {
   "display_name": "Python 3",
   "language": "python",
   "name": "python3"
  },
  "language_info": {
   "codemirror_mode": {
    "name": "ipython",
    "version": 3
   },
   "file_extension": ".py",
   "mimetype": "text/x-python",
   "name": "python",
   "nbconvert_exporter": "python",
   "pygments_lexer": "ipython3",
   "version": "3.7.1"
  }
 },
 "nbformat": 4,
 "nbformat_minor": 1
}
