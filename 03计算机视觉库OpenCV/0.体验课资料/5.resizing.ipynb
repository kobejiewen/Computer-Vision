{
 "cells": [
  {
   "cell_type": "code",
   "execution_count": 1,
   "metadata": {},
   "outputs": [],
   "source": [
    "from imutils import *"
   ]
  },
  {
   "cell_type": "code",
   "execution_count": 2,
   "metadata": {},
   "outputs": [
    {
     "name": "stdout",
     "output_type": "stream",
     "text": [
      "(1440, 1080, 3)\n"
     ]
    }
   ],
   "source": [
    "image = imread('image.jpg')\n",
    "show(image)\n",
    "print(image.shape)"
   ]
  },
  {
   "cell_type": "code",
   "execution_count": 3,
   "metadata": {},
   "outputs": [
    {
     "name": "stdout",
     "output_type": "stream",
     "text": [
      "(150, 150, 3)\n"
     ]
    }
   ],
   "source": [
    "width = 150\n",
    "high = 150 \n",
    "image = cv2.resize(image, (width, high))\n",
    "show(image)\n",
    "print(image.shape)"
   ]
  },
  {
   "cell_type": "code",
   "execution_count": 4,
   "metadata": {},
   "outputs": [
    {
     "name": "stdout",
     "output_type": "stream",
     "text": [
      "(106, 80, 3)\n"
     ]
    }
   ],
   "source": [
    "image = imread('image.jpg')\n",
    "width = 80\n",
    "high = int(image.shape[0]*width/image.shape[1])\n",
    "image = cv2.resize(image, (width, high))\n",
    "show(image)\n",
    "print(image.shape)"
   ]
  },
  {
   "cell_type": "code",
   "execution_count": 5,
   "metadata": {},
   "outputs": [
    {
     "name": "stdout",
     "output_type": "stream",
     "text": [
      "(150, 150, 3)\n"
     ]
    }
   ],
   "source": [
    "# 5种插值方法：\n",
    "# 最邻近\n",
    "image = imread('image.jpg')\n",
    "width = 150\n",
    "high = 150 \n",
    "image = cv2.resize(image, (width, high), interpolation=cv2.INTER_NEAREST)\n",
    "show(image)\n",
    "print(image.shape)"
   ]
  },
  {
   "cell_type": "code",
   "execution_count": 6,
   "metadata": {},
   "outputs": [
    {
     "name": "stdout",
     "output_type": "stream",
     "text": [
      "(150, 150, 3)\n"
     ]
    }
   ],
   "source": [
    "# 5种插值方法：\n",
    "# 双线性\n",
    "image = imread('image.jpg')\n",
    "width = 150\n",
    "high = 150 \n",
    "image = cv2.resize(image, (width, high), interpolation=cv2.INTER_LINEAR)\n",
    "show(image)\n",
    "print(image.shape)"
   ]
  },
  {
   "cell_type": "code",
   "execution_count": 7,
   "metadata": {},
   "outputs": [
    {
     "name": "stdout",
     "output_type": "stream",
     "text": [
      "(150, 150, 3)\n"
     ]
    }
   ],
   "source": [
    "# 5种插值方法：\n",
    "# 基于像素区域\n",
    "image = imread('image.jpg')\n",
    "width = 150\n",
    "high = 150 \n",
    "image = cv2.resize(image, (width, high), interpolation=cv2.INTER_AREA)\n",
    "show(image)\n",
    "print(image.shape)"
   ]
  },
  {
   "cell_type": "code",
   "execution_count": 8,
   "metadata": {},
   "outputs": [
    {
     "name": "stdout",
     "output_type": "stream",
     "text": [
      "(150, 150, 3)\n"
     ]
    }
   ],
   "source": [
    "# 5种插值方法：\n",
    "# 立方插值\n",
    "image = imread('image.jpg')\n",
    "width = 150\n",
    "high = 150 \n",
    "image = cv2.resize(image, (width, high), interpolation=cv2.INTER_CUBIC)\n",
    "show(image)\n",
    "print(image.shape)"
   ]
  },
  {
   "cell_type": "code",
   "execution_count": 9,
   "metadata": {},
   "outputs": [
    {
     "name": "stdout",
     "output_type": "stream",
     "text": [
      "(150, 150, 3)\n"
     ]
    }
   ],
   "source": [
    "# 5种插值方法：\n",
    "# 兰索斯插值\n",
    "image = imread('image.jpg')\n",
    "width = 150\n",
    "high = 150 \n",
    "image = cv2.resize(image, (width, high), interpolation=cv2.INTER_LANCZOS4)\n",
    "show(image)\n",
    "print(image.shape)"
   ]
  },
  {
   "cell_type": "code",
   "execution_count": null,
   "metadata": {
    "collapsed": true
   },
   "outputs": [],
   "source": []
  }
 ],
 "metadata": {
  "kernelspec": {
   "display_name": "Python 3",
   "language": "python",
   "name": "python3"
  },
  "language_info": {
   "codemirror_mode": {
    "name": "ipython",
    "version": 3
   },
   "file_extension": ".py",
   "mimetype": "text/x-python",
   "name": "python",
   "nbconvert_exporter": "python",
   "pygments_lexer": "ipython3",
   "version": "3.7.1"
  }
 },
 "nbformat": 4,
 "nbformat_minor": 1
}
