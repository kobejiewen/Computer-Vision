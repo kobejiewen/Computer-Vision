{
 "cells": [
  {
   "cell_type": "markdown",
   "metadata": {},
   "source": [
    "### 图像梯度：\n",
    "I是图像像素的值(如：RGB值)  \n",
    "一阶导数：  \n",
    "x的梯度：Gx = I(x+1,y)-I(x,y)  \n",
    "y的梯度：Gy = I(x,y+1)-I(x,y)  \n",
    "二阶导数：  \n",
    "x的梯度：I(x+1,y)+I(x-1,y)-2I(x,y)\n",
    "y的梯度：I(x,y+1)+I(x,y-1)-2I(x,y)\n",
    "OpenCV 提供了三种不同的梯度滤波器，或者说高通滤波器： Sobel，Scharr 和 Laplacian。Sobel， Scharr 其实就是求一阶或二阶导数。 Scharr 是对 Sobel的优化。Laplacian 是求二阶导数。  \n",
    "梯度大小和方向的公式为：  \n",
    "<center>$G=\\sqrt{(G_x^2+G_y^2 )}$</center>\n",
    "<center>$\\theta=tan^{-1}(\\frac{G_x}{G_y})$</center>\n",
    "梯度的方向一般总是与边界垂直。梯度方向被归为四类：垂直，水平，和两个对角线。\n",
    "<center><img src=\"image/gradient.png\" alt=\"FAO\" width=\"200\"></center>\n",
    "\n",
    "### Sobel算子和Scharr算子：\n",
    "Sobel 算子是高斯平滑与微分操作的结合体，所以它的抗噪声能力很好。你可以设定求导的方向（xorder 或 yorder）。还可以设定使用的卷积核的大小（ksize）。\n",
    "<center><img src=\"image/Sobel.png\" alt=\"FAO\" width=\"300\"></center>\n",
    "\n",
    "如果 ksize=-1，会使用 3x3 的 Scharr 滤波器，它的的效果要比 3x3 的 Sobel 滤波器好（而且速度相同，所以在使用 3x3 滤波器时应该尽量使用 Scharr 滤波器）。 3x3 的 Scharr 滤波器卷积核如下：\n",
    "\n",
    "<center><img src=\"image/Scharr.png\" alt=\"FAO\" width=\"300\"></center>\n",
    "\n",
    "### Laplacian算子：\n",
    "拉普拉斯算子使用的卷积核：  \n",
    "<center><img src=\"image/Laplacian.png\" alt=\"FAO\" width=\"150\"></center>"
   ]
  },
  {
   "cell_type": "code",
   "execution_count": 2,
   "metadata": {},
   "outputs": [],
   "source": [
    "from imutils import *"
   ]
  },
  {
   "cell_type": "code",
   "execution_count": 3,
   "metadata": {},
   "outputs": [],
   "source": [
    "image = imread('image/bricks.png')\n",
    "show(image)"
   ]
  },
  {
   "cell_type": "code",
   "execution_count": 4,
   "metadata": {},
   "outputs": [],
   "source": [
    "def gradient(image):\n",
    "    image = cv2.cvtColor(image, cv2.COLOR_RGB2GRAY)\n",
    "    # cv2.CV_64F输出图像的深度(数据类型)，64位float类型，因为梯度可能是正也可能是负\n",
    "    laplacian = cv2.Laplacian(image, cv2.CV_64F)\n",
    "    # 1, 0表示在x方向求一阶导数，最大可以求2阶导数\n",
    "    sobelx = cv2.Sobel(image, cv2.CV_64F, 1, 0, ksize=3)\n",
    "    # 0, 1表示在y方向求一阶导数，最大可以求2阶导数\n",
    "    sobely = cv2.Sobel(image, cv2.CV_64F, 0, 1, ksize=3)\n",
    "    titles = ['Original', 'Laplacian', 'SobelX', 'SobelY']\n",
    "    images = [image,laplacian,sobelx,sobely]\n",
    "    plt.figure(figsize=(10,5))\n",
    "    for i in range(4):\n",
    "        plt.subplot(2,2,i+1)\n",
    "        plt.imshow(images[i],'gray')\n",
    "        plt.title(titles[i])\n",
    "        plt.axis('off')\n",
    "    plt.show()"
   ]
  },
  {
   "cell_type": "code",
   "execution_count": 5,
   "metadata": {},
   "outputs": [],
   "source": [
    "gradient(image)"
   ]
  },
  {
   "cell_type": "code",
   "execution_count": 6,
   "metadata": {},
   "outputs": [],
   "source": [
    "image = imread('image/license_plate.png')\n",
    "gradient(image)"
   ]
  },
  {
   "cell_type": "code",
   "execution_count": null,
   "metadata": {
    "collapsed": true
   },
   "outputs": [],
   "source": []
  }
 ],
 "metadata": {
  "anaconda-cloud": {},
  "kernelspec": {
   "display_name": "Python 3",
   "language": "python",
   "name": "python3"
  },
  "language_info": {
   "codemirror_mode": {
    "name": "ipython",
    "version": 3
   },
   "file_extension": ".py",
   "mimetype": "text/x-python",
   "name": "python",
   "nbconvert_exporter": "python",
   "pygments_lexer": "ipython3",
   "version": "3.7.1"
  }
 },
 "nbformat": 4,
 "nbformat_minor": 1
}
