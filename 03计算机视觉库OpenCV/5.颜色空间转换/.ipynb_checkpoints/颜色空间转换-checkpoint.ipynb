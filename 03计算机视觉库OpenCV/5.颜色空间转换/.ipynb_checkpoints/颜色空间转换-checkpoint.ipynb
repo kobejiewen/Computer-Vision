{
 "cells": [
  {
   "cell_type": "code",
   "execution_count": 2,
   "metadata": {},
   "outputs": [],
   "source": [
    "from imutils import *"
   ]
  },
  {
   "cell_type": "markdown",
   "metadata": {},
   "source": [
    "### RGB\n",
    "<center><img src=\"color_spaces_rgb_additive.jpg\" alt=\"FAO\" width=\"300\"></center> \n",
    "<center><img src=\"color_spaces_rgb_color_cube.jpg\" alt=\"FAO\" width=\"300\"></center> \n",
    "RGB是从颜色发光的原理来设计定的，通俗点说它的颜色混合方式就好像有红、绿、蓝三盏灯，当它们的光相互叠合的时候，色彩相混，而亮度却等于两者亮度之总和，越混合亮度越高，即加法混合。\n",
    "\n",
    "红、绿、蓝三个颜色通道每种色各分为256阶亮度，在0时“灯”最弱——是关掉的，而在255时“灯”最亮。当三色灰度数值相同时，产生不同灰度值的灰色调，即三色灰度都为0时，是最暗的黑色调；三色灰度都为255时，是最亮的白色调。  \n",
    "\n",
    "在电脑中，RGB的所谓“多少”就是指亮度，并使用整数来表示。通常情况下，RGB各有256级亮度，用数字表示为从0、1、2...直到255。注意虽然数字最高是255，但0也是数值之一，因此共256级。  \n",
    "256 x 256 x 256 = 16,777,216"
   ]
  },
  {
   "cell_type": "code",
   "execution_count": 4,
   "metadata": {},
   "outputs": [],
   "source": [
    "image = imread('image.jpg')\n",
    "(R, G, B) = cv2.split(image)\n",
    "#print(R,G,B)\n",
    "zeros = np.zeros(image.shape[:2],dtype='uint8')\n",
    "show(cv2.merge([R,zeros,zeros]))\n",
    "show(cv2.merge([zeros,G,zeros]))\n",
    "show(cv2.merge([zeros,zeros,B]))"
   ]
  },
  {
   "cell_type": "markdown",
   "metadata": {},
   "source": [
    "### HSV\n",
    "HSV是一种比较直观的颜色模型，HSV颜色空可以更好的数字化处理颜色。这个模型中颜色的参数分别是：色调（H, Hue），饱和度（S,Saturation），明度（V, Value）。\n",
    "\n",
    "##### 色调H:\n",
    "用角度度量，取值范围为0°～360°，从红色开始按逆时针方向计算，红色为0°，绿色为120°,蓝色为240°。它们的补色是：黄色为60°，青色为180°,品红为300°\n",
    "##### 饱和度S:\n",
    "饱和度S表示颜色接近光谱色的程度。一种颜色，可以看成是某种光谱色与白色混合的结果。其中光谱色所占的比例愈大，颜色接近光谱色的程度就愈高，颜色的饱和度也就愈高。饱和度高，颜色则深而艳。光谱色的白光成分为0，饱和度达到最高。通常取值范围为0%～100%，值越大，颜色越饱和。\n",
    "##### 明度V:\n",
    "明度表示颜色明亮的程度，对于光源色，明度值与发光体的光亮度有关；对于物体色，此值和物体的透射比或反射比有关。通常取值范围为0%（黑）到100%（白）。\n",
    "<center><img src=\"color_spaces_hsv_color_cylinder.jpg\" alt=\"FAO\" width=\"300\"></center>"
   ]
  },
  {
   "cell_type": "code",
   "execution_count": null,
   "metadata": {},
   "outputs": [],
   "source": [
    "image = imread('image.jpg')\n",
    "hsv = cv2.cvtColor(image, cv2.COLOR_RGB2HSV)\n",
    "zeros = np.zeros(image.shape[:2],dtype='uint8')\n",
    "for (name,chan) in zip(('H','S','V'), cv2.split(hsv)):\n",
    "    cv2.imshow(name,chan)\n",
    "cv2.waitKey(0)\n",
    "cv2.destroyAllWindows()"
   ]
  },
  {
   "cell_type": "markdown",
   "metadata": {},
   "source": [
    "### L\\*a\\*b\\*\n",
    "CIE1976L*a*b*色空间（CIE LAB 色空间），是1976年由国际照明学会（CIE）推荐的均匀色空间。L*a*b颜色空间用于计算机色调调整和彩色校正。该空间是三维直角坐标系统。是目前最受广用的测色系统。以明度L*和色度坐标a*、b*来表示颜色在色空间中的位置。l*表示颜色的明度，a*正值表示偏红，负值表示偏绿；b*正值表示偏黄，负值表示偏蓝\n",
    "\n",
    "L* 表示颜色的明度；\n",
    "\n",
    "a* 正值表示红色，负值表示绿色；\n",
    "\n",
    "b* 正值表示黄色，负值表示蓝色；\n",
    "\n",
    "<center><img src=\"color_spaces_lab_axis.jpg\" alt=\"FAO\" width=\"300\"></center>"
   ]
  },
  {
   "cell_type": "code",
   "execution_count": null,
   "metadata": {},
   "outputs": [],
   "source": [
    "image = imread('image.jpg')\n",
    "lab = cv2.cvtColor(image, cv2.COLOR_RGB2LAB)\n",
    "zeros = np.zeros(image.shape[:2],dtype='uint8')\n",
    "for (name,chan) in zip(('L','A','B'), cv2.split(lab)):\n",
    "    cv2.imshow(name,chan)\n",
    "cv2.waitKey(0)\n",
    "cv2.destroyAllWindows()"
   ]
  },
  {
   "cell_type": "markdown",
   "metadata": {},
   "source": [
    "### Grayscale\n",
    "灰阶图像就是黑白图片，通过调节灰度值来显示影像"
   ]
  },
  {
   "cell_type": "code",
   "execution_count": null,
   "metadata": {},
   "outputs": [],
   "source": [
    "image = cv2.imread('image.jpg')\n",
    "gray = cv2.cvtColor(image, cv2.COLOR_BGR2GRAY)\n",
    "cv2.imshow('original',image)\n",
    "cv2.imshow('gray',gray)\n",
    "cv2.waitKey(0)\n",
    "cv2.destroyAllWindows()"
   ]
  },
  {
   "cell_type": "code",
   "execution_count": null,
   "metadata": {
    "collapsed": true
   },
   "outputs": [],
   "source": []
  }
 ],
 "metadata": {
  "anaconda-cloud": {},
  "kernelspec": {
   "display_name": "Python 3",
   "language": "python",
   "name": "python3"
  },
  "language_info": {
   "codemirror_mode": {
    "name": "ipython",
    "version": 3
   },
   "file_extension": ".py",
   "mimetype": "text/x-python",
   "name": "python",
   "nbconvert_exporter": "python",
   "pygments_lexer": "ipython3",
   "version": "3.7.1"
  }
 },
 "nbformat": 4,
 "nbformat_minor": 1
}
