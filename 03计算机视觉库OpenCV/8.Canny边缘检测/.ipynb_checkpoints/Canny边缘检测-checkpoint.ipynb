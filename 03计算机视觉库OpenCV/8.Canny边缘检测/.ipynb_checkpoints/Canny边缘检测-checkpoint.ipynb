{
 "cells": [
  {
   "cell_type": "markdown",
   "metadata": {},
   "source": [
    "### Canny边缘检测\n",
    "Canny 边缘检测是一种非常流行的边缘检测算法，是 John F.Canny 在1986 年提出的。它是一个有很多步构成的算法，我们接下来会逐步介绍。  \n",
    "1.噪声去除  \n",
    "由于边缘检测很容易受到噪声影响，所以第一步是使用 5x5 的高斯滤波器去除噪声，这个前面我们已经学过了。  \n",
    "\n",
    "2.计算图像梯度  \n",
    "对平滑后的图像使用 Sobel 算子计算水平方向和竖直方向的一阶导数（图像梯度）（Gx 和 Gy）。根据得到的这两幅梯度图（Gx 和 Gy）找到边界的梯度和方向，公式如下：  \n",
    "<center>$G=\\sqrt{(G_x^2+G_y^2 )}$</center>\n",
    "<center>$\\theta=tan^{-1}(\\frac{G_x}{G_y})$</center>\n",
    "梯度的方向一般总是与边界垂直。梯度方向被归为四类：垂直，水平，和两个对角线。  \n",
    "\n",
    "3.非极大值抑制  \n",
    "在获得梯度的方向和大小之后，应该对整幅图像做一个扫描，去除那些非边界上的点。对每一个像素进行检查，看这个点的梯度是不是周围具有相同梯度方向的点中最大的。如下所示：   \n",
    " <center><img src=\"image/canny.png\" alt=\"FAO\" width=\"200\"></center>\n",
    "上图中的数字代表了像素点的梯度强度，箭头方向代表了梯度方向。以第二排第三个像素点为例，由于梯度方向向上，则将这一点的强度（7）与其上下两个像素点的强度（5和4）比较，由于这一点强度最大，则保留。\n",
    "    \n",
    "4.滞后阈值  \n",
    "现在要确定那些边界才是真正的边界。这时我们需要设置两个阈值：minVal 和 maxVal。当图像的灰度梯度高于 maxVal 时被认为是真的边界，那些低于 minVal 的边界会被抛弃。如果介于两者之间的话，就要看这个点是否与某个被确定为真正的边界点相连，如果是就认为它也是边界点，如果不是就抛弃。如下图：\n",
    "<center><img src=\"image/Hysteresis.png\" alt=\"FAO\" width=\"200\"></center>\n",
    "A 高于阈值 maxVal 所以是真正的边界点， B 虽然低于 maxVal 但高于minVal 并且与 A 相连，所以也被认为是真正的边界点。而 C 就会被抛弃，因为他不仅低于 maxVal 而且不与真正的边界点相连。D也会被抛弃，因为低于minVal。所以选择合适的 maxVal和 minVal 对于能否得到好的结果非常重要。在这一步一些小的噪声点也会被除去，因为我们假设边界都是一些长的线段。\n",
    "\n",
    "### Canny使用 \n",
    "在 OpenCV 中只需要一个函数： cv2.Canny()，就可以完成以上几步。让我们看如何使用这个函数。这个函数的第一个参数是输入图像。第二和第三个分别是 minVal 和 maxVal。第四个参数设置用来计算图像梯度的 Sobel卷积核的大小，默认值为 3。最后一个参数是 L2gradient，它可以用来设定求梯度大小的方程。如果设为 True，就会使用我们上面提到过的方程：$G=\\sqrt{(G_x^2+G_y^2 )}$，否则使用方程：$G=|G_x^2|+|G_y^2|$代替，默认值为 False。"
   ]
  },
  {
   "cell_type": "code",
   "execution_count": 1,
   "metadata": {},
   "outputs": [],
   "source": [
    "from imutils import *"
   ]
  },
  {
   "cell_type": "code",
   "execution_count": 2,
   "metadata": {},
   "outputs": [],
   "source": [
    "image = imread('image/school.jpg')\n",
    "show(image)"
   ]
  },
  {
   "cell_type": "code",
   "execution_count": 3,
   "metadata": {},
   "outputs": [],
   "source": [
    "def edge_detection(image,minVal=100,maxVal=200):\n",
    "    image = cv2.cvtColor(image, cv2.COLOR_RGB2GRAY)\n",
    "    edges = cv2.Canny(image,minVal,maxVal)\n",
    "    plt.imshow(edges,'gray')\n",
    "    plt.axis('off')\n",
    "    plt.show()"
   ]
  },
  {
   "cell_type": "code",
   "execution_count": 4,
   "metadata": {},
   "outputs": [],
   "source": [
    "edge_detection(image)"
   ]
  },
  {
   "cell_type": "code",
   "execution_count": 5,
   "metadata": {},
   "outputs": [],
   "source": [
    "image = imread('image/license_plate.png')\n",
    "show(image)"
   ]
  },
  {
   "cell_type": "code",
   "execution_count": 6,
   "metadata": {},
   "outputs": [],
   "source": [
    "edge_detection(image)"
   ]
  },
  {
   "cell_type": "code",
   "execution_count": 7,
   "metadata": {},
   "outputs": [],
   "source": [
    "image = imread('image/bricks.png')\n",
    "show(image)"
   ]
  },
  {
   "cell_type": "code",
   "execution_count": 8,
   "metadata": {},
   "outputs": [],
   "source": [
    "edge_detection(image)"
   ]
  },
  {
   "cell_type": "code",
   "execution_count": 9,
   "metadata": {},
   "outputs": [],
   "source": [
    "image = imread('image/coins.jpg')\n",
    "show(image)"
   ]
  },
  {
   "cell_type": "code",
   "execution_count": 10,
   "metadata": {},
   "outputs": [],
   "source": [
    "image = cv2.cvtColor(image, cv2.COLOR_RGB2GRAY)\n",
    "image = cv2.GaussianBlur(image, (3,3), 0)\n",
    "Value = [(10,150),(100,200),(180,230)]\n",
    "plt.figure(figsize=(20,5))\n",
    "for i,(minVal,maxVal) in enumerate(Value):\n",
    "    plt.subplot(1,3,i+1)\n",
    "    edges = cv2.Canny(image,minVal,maxVal)\n",
    "    edges = cv2.GaussianBlur(edges, (3,3), 0)\n",
    "    plt.imshow(edges,'gray')\n",
    "    plt.title(str((minVal,maxVal)))\n",
    "    plt.axis('off')\n",
    "plt.show()"
   ]
  },
  {
   "cell_type": "code",
   "execution_count": 11,
   "metadata": {},
   "outputs": [],
   "source": [
    "# 自动确定阈值的一种方法\n",
    "def auto_canny(image, sigma=0.33):\n",
    "    v = np.median(image)\n",
    "    lower = int(max(0, (1.0-sigma) * v))\n",
    "    upper = int(min(255, (1.0+sigma) * v))\n",
    "    edged = cv2.Canny(image, lower, upper)\n",
    "    print(lower,upper)\n",
    "    return edged"
   ]
  },
  {
   "cell_type": "code",
   "execution_count": 12,
   "metadata": {},
   "outputs": [
    {
     "name": "stdout",
     "output_type": "stream",
     "text": [
      "81 160\n"
     ]
    }
   ],
   "source": [
    "edges = auto_canny(image)\n",
    "edges = cv2.GaussianBlur(edges, (3,3), 0)\n",
    "plt.imshow(edges,'gray')\n",
    "plt.axis('off')\n",
    "plt.show()"
   ]
  },
  {
   "cell_type": "code",
   "execution_count": null,
   "metadata": {
    "collapsed": true
   },
   "outputs": [],
   "source": []
  }
 ],
 "metadata": {
  "anaconda-cloud": {},
  "kernelspec": {
   "display_name": "Python 3",
   "language": "python",
   "name": "python3"
  },
  "language_info": {
   "codemirror_mode": {
    "name": "ipython",
    "version": 3
   },
   "file_extension": ".py",
   "mimetype": "text/x-python",
   "name": "python",
   "nbconvert_exporter": "python",
   "pygments_lexer": "ipython3",
   "version": "3.7.1"
  }
 },
 "nbformat": 4,
 "nbformat_minor": 1
}
