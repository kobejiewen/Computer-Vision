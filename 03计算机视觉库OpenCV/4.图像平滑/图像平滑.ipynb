{
 "cells": [
  {
   "cell_type": "markdown",
   "metadata": {
    "collapsed": true
   },
   "source": [
    "### 图像模糊/图像平滑"
   ]
  },
  {
   "cell_type": "code",
   "execution_count": 2,
   "metadata": {},
   "outputs": [],
   "source": [
    "from imutils import *"
   ]
  },
  {
   "cell_type": "code",
   "execution_count": 3,
   "metadata": {},
   "outputs": [],
   "source": [
    "image = imread('image.jpg')\n",
    "show(image)"
   ]
  },
  {
   "cell_type": "markdown",
   "metadata": {},
   "source": [
    "### Averaging平均\n",
    "计算卷积框覆盖区域所有像素的平均值得到卷积的结果  \n",
    "[[1 1 1 1 1]  \n",
    " [1 1 1 1 1]  \n",
    " [1 1 1 1 1]  \n",
    " [1 1 1 1 1]  \n",
    " [1 1 1 1 1]]  "
   ]
  },
  {
   "cell_type": "code",
   "execution_count": 5,
   "metadata": {},
   "outputs": [],
   "source": [
    "kernelsizes = [(3,3),(9,9),(15,15)]\n",
    "plt.figure(figsize=(15,15))\n",
    "for i,kernel in enumerate(kernelsizes):\n",
    "    plt.subplot(1,3,i+1)\n",
    "    # 平均平滑\n",
    "    blur = cv2.blur(image, kernel)\n",
    "    # 不显示坐标\n",
    "    plt.axis('off')\n",
    "    # 设置标题\n",
    "    plt.title('Blurred'+str(kernel))\n",
    "    plt.imshow(blur)\n",
    "plt.show()"
   ]
  },
  {
   "cell_type": "markdown",
   "metadata": {},
   "source": [
    "### Gaussian高斯模糊\n",
    "现在把卷积核换成高斯核（简单来说，方框不变，将原来每个方框的值是\n",
    "相等的，现在里面的值是符合高斯分布的，方框中心的值最大，其余方框根据\n",
    "距离中心元素的距离递减，构成一个高斯小山包。原来的求平均数现在变成求\n",
    "加权平均数，全就是方框里的值）"
   ]
  },
  {
   "cell_type": "code",
   "execution_count": 6,
   "metadata": {},
   "outputs": [],
   "source": [
    "kernelsizes = [(3,3),(9,9),(15,15)]\n",
    "plt.figure(figsize=(15,15))\n",
    "for i,kernel in enumerate(kernelsizes):\n",
    "    plt.subplot(1,3,i+1)\n",
    "    # 平均平滑\n",
    "    blur = cv2.GaussianBlur(image, kernel, 0)\n",
    "    # 不显示坐标\n",
    "    plt.axis('off')\n",
    "    # 设置标题\n",
    "    plt.title('Blurred'+str(kernel))\n",
    "    plt.imshow(blur)\n",
    "plt.show()"
   ]
  },
  {
   "cell_type": "markdown",
   "metadata": {},
   "source": [
    "### Median中值模糊\n",
    "顾名思义就是用与卷积框对应像素的中值来替代中心像素的值。"
   ]
  },
  {
   "cell_type": "code",
   "execution_count": 7,
   "metadata": {},
   "outputs": [],
   "source": [
    "image = imread('image2.jpg')\n",
    "show(image)"
   ]
  },
  {
   "cell_type": "code",
   "execution_count": 8,
   "metadata": {},
   "outputs": [],
   "source": [
    "plt.figure(figsize=(15,15))\n",
    "for i,kernel in enumerate((3,9,15)):\n",
    "    plt.subplot(1,3,i+1)\n",
    "    # 平均平滑\n",
    "    blur = cv2.medianBlur(image, kernel)\n",
    "    # 不显示坐标\n",
    "    plt.axis('off')\n",
    "    # 设置标题\n",
    "    plt.title('Blurred'+str(kernel))\n",
    "    plt.imshow(blur)\n",
    "plt.show()"
   ]
  },
  {
   "cell_type": "markdown",
   "metadata": {},
   "source": [
    "### Bilateral双边滤波\n",
    "能在保持边界清晰的情况下有效的去除噪音。我们已经知道高斯滤波器是求中心点邻近区域像素的高斯加权平均值。这种高斯滤波器只考虑像素之间的空间关系，而不会考虑像素值之间的关系（像素的相似度）。所以这种方法不会考虑一个像素是否位于边界。因此边界也会别模糊掉，而这正不是我们想要。\n",
    "\n",
    "双边滤波在同时使用空间高斯权重和灰度值相似性高斯权重。空间高斯函数确保只有邻近区域的像素对中心点有影响，灰度值相似性高斯函数确保只有与中心像素灰度值相近的才会被用来做模糊运算。所以这种方法会确保边界不会被模糊掉，因为边界处的灰度值变化比较大。"
   ]
  },
  {
   "cell_type": "code",
   "execution_count": 9,
   "metadata": {},
   "outputs": [],
   "source": [
    "image = imread('wood.jpg')\n",
    "show(image)"
   ]
  },
  {
   "cell_type": "code",
   "execution_count": 10,
   "metadata": {},
   "outputs": [],
   "source": [
    "params = [(11,21,7),(11,41,21),(15,75,75)]\n",
    "plt.figure(figsize=(15,15))\n",
    "# 邻域直径，灰度值相似性高斯函数标准差，空间高斯函数标准差\n",
    "for i,(diameter,sigmaColor,sigmaSpace) in enumerate(params):\n",
    "    plt.subplot(1,3,i+1)\n",
    "    # 平均平滑\n",
    "    blur = cv2.bilateralFilter(image, diameter,sigmaColor,sigmaSpace)\n",
    "    # 不显示坐标\n",
    "    plt.axis('off')\n",
    "    # 设置标题\n",
    "    plt.title('Blurred'+str((diameter,sigmaColor,sigmaSpace)))\n",
    "    plt.imshow(blur)\n",
    "plt.show()"
   ]
  },
  {
   "cell_type": "code",
   "execution_count": null,
   "metadata": {
    "collapsed": true
   },
   "outputs": [],
   "source": []
  }
 ],
 "metadata": {
  "anaconda-cloud": {},
  "kernelspec": {
   "display_name": "Python 3",
   "language": "python",
   "name": "python3"
  },
  "language_info": {
   "codemirror_mode": {
    "name": "ipython",
    "version": 3
   },
   "file_extension": ".py",
   "mimetype": "text/x-python",
   "name": "python",
   "nbconvert_exporter": "python",
   "pygments_lexer": "ipython3",
   "version": "3.7.1"
  }
 },
 "nbformat": 4,
 "nbformat_minor": 1
}
