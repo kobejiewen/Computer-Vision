{
 "cells": [
  {
   "cell_type": "markdown",
   "metadata": {},
   "source": [
    "1、题目1：有1、2、3、4个数字，能组成多少个互不相同且无重复数字的两位数？都是多少？"
   ]
  },
  {
   "cell_type": "code",
   "execution_count": 26,
   "metadata": {},
   "outputs": [
    {
     "name": "stdout",
     "output_type": "stream",
     "text": [
      "['11', '12', '13', '14', '21', '22', '23', '24', '31', '32', '33', '34', '41', '42', '43', '44']\n",
      "16\n"
     ]
    }
   ],
   "source": [
    "lst = []\n",
    "num = ['1','2','3','4']\n",
    "i=0\n",
    "while i < len(num):\n",
    "    j=0\n",
    "    while j < len(num) :\n",
    "        arr = num[i] + num[j]\n",
    "        if arr not in lst:\n",
    "            lst.append(arr)\n",
    "        j+=1\n",
    "    i+=1\n",
    "    \n",
    "print(lst)\n",
    "print(len(lst))\n"
   ]
  },
  {
   "cell_type": "markdown",
   "metadata": {},
   "source": [
    "2、题目2：输入三个整数x,y,z，请把这三个数由小到大输出，可调用input()。（需要加判断：判断输入数据是否为数字）\n",
    "* 提示：判断是否为数字：.isdigit()\n",
    "* 该题目需要创建函数"
   ]
  },
  {
   "cell_type": "code",
   "execution_count": 1,
   "metadata": {},
   "outputs": [
    {
     "name": "stdout",
     "output_type": "stream",
     "text": [
      "please input digital number:23\n",
      "please input digital number:32.3\n",
      "the number is not digital\n",
      "please input digital number:23\n",
      "please input digital number:1\n",
      "['1', '23', '23']\n"
     ]
    }
   ],
   "source": [
    "numLst = []\n",
    "def sortDigitalNumber():\n",
    "    while len(numLst) < 3:\n",
    "        num = input(\"please input digital number:\")\n",
    "        if num.isdigit():\n",
    "            numLst.append(num)\n",
    "        else:\n",
    "            print(\"the number is not digital\")\n",
    "sortDigitalNumber()\n",
    "numLst.sort()\n",
    "print(numLst)"
   ]
  },
  {
   "cell_type": "markdown",
   "metadata": {},
   "source": [
    "3、输入一行字符，分别统计出其中英文字母、空格、数字和其它字符的个数。\n",
    "* 该题目不需要创建函数"
   ]
  },
  {
   "cell_type": "code",
   "execution_count": 9,
   "metadata": {},
   "outputs": [
    {
     "name": "stdout",
     "output_type": "stream",
     "text": [
      "please input something :12  $% wer\n",
      "12  $% wer\n",
      "char = 3,space = 3,digit = 2,others = 2\n"
     ]
    }
   ],
   "source": [
    "letters = 0\n",
    "space = 0\n",
    "digit = 0\n",
    "others = 0\n",
    "str = input(\"please input something :\")\n",
    "for value in str:\n",
    "    if value.isalpha():\n",
    "        letters += 1\n",
    "    elif value.isdigit():\n",
    "        digit += 1\n",
    "    elif value.isspace():\n",
    "        space += 1\n",
    "    else:\n",
    "        others += 1\n",
    "print(str)\n",
    "print(\"char = %d,space = %d,digit = %d,others = %d\" % (letters,space,digit,others))"
   ]
  },
  {
   "cell_type": "markdown",
   "metadata": {},
   "source": [
    "4、猴子吃桃问题\n",
    "* 猴子第一天摘下若干个桃子，当即吃了一半，还不瘾，又多吃了一个,\n",
    "* 第二天早上又将剩下的桃子吃掉一半，又多吃了一个。\n",
    "* 以后每天早上都吃了前一天剩下的一半零一个。到第10天早上想再吃时，见只剩下一个桃子了。求第一天共摘了多少?\n",
    "* 提示：采取逆向思维的方法，从后往前推断。\n",
    "* 该题目不需要创建函数"
   ]
  },
  {
   "cell_type": "code",
   "execution_count": 14,
   "metadata": {},
   "outputs": [
    {
     "name": "stdout",
     "output_type": "stream",
     "text": [
      "第一天一共摘了1534个桃子\n"
     ]
    }
   ],
   "source": [
    "last = 1\n",
    "total = 0\n",
    "i = 9\n",
    "while i > 0:\n",
    "    total = 2*(last + 1)\n",
    "    last = total\n",
    "    i -= 1\n",
    "print(\"第一天一共摘了%i个桃子\" %total)\n"
   ]
  },
  {
   "cell_type": "markdown",
   "metadata": {},
   "source": [
    "5、猜数字问题，要求如下：\n",
    "* ① 随机生成一个整数\n",
    "* ② 猜一个数字并输入\n",
    "* ③ 判断是大是小，直到猜正确\n",
    "* ④ 判断时间\n",
    "* 提示：需要用time模块、random模块\n",
    "* 该题目不需要创建函数"
   ]
  },
  {
   "cell_type": "code",
   "execution_count": 10,
   "metadata": {},
   "outputs": [
    {
     "name": "stdout",
     "output_type": "stream",
     "text": [
      "这是您第1次猜，请输入一个整数：10\n",
      "您猜大了，请重新输入\n",
      "这是您第2次猜，请输入一个整数：5\n",
      "恭喜您猜对了！！！\n",
      "您总共用时5.77秒\n"
     ]
    }
   ],
   "source": [
    "import random\n",
    "import time\n",
    "starttime = time.time()\n",
    "n= 1\n",
    "m = random.randint(0,10)\n",
    "a = int(input(\"这是您第%i次猜，请输入一个整数：\"%n))\n",
    "while m != a:\n",
    "    if m < a:\n",
    "        print(\"您猜大了，请重新输入\")\n",
    "    if m > a:\n",
    "        print(\"您猜小了，请重新输入\")\n",
    "    n = n + 1\n",
    "    a = int(input(\"这是您第%i次猜，请输入一个整数：\"%n))\n",
    "print(\"恭喜您猜对了！！！\")\n",
    "endtime = time.time()\n",
    "time = endtime - starttime\n",
    "print(\"您总共用时%.2f秒\"%time)"
   ]
  },
  {
   "cell_type": "code",
   "execution_count": null,
   "metadata": {},
   "outputs": [],
   "source": []
  }
 ],
 "metadata": {
  "anaconda-cloud": {},
  "kernelspec": {
   "display_name": "Python 3",
   "language": "python",
   "name": "python3"
  },
  "language_info": {
   "codemirror_mode": {
    "name": "ipython",
    "version": 3
   },
   "file_extension": ".py",
   "mimetype": "text/x-python",
   "name": "python",
   "nbconvert_exporter": "python",
   "pygments_lexer": "ipython3",
   "version": "3.6.2"
  }
 },
 "nbformat": 4,
 "nbformat_minor": 1
}
