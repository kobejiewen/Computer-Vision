{
 "cells": [
  {
   "cell_type": "code",
   "execution_count": 4,
   "metadata": {},
   "outputs": [
    {
     "name": "stdout",
     "output_type": "stream",
     "text": [
      "Jack     90.0\n",
      "Marry    92.0\n",
      "Tom      89.0\n",
      "Zack     65.0\n",
      "Name: 作业1, dtype: float64\n",
      "Jack     90.0\n",
      "Marry    92.0\n",
      "Tom      89.0\n",
      "Zack     65.0\n",
      "Name: 作业1, dtype: float64\n"
     ]
    }
   ],
   "source": [
    "# c0302_Pandas数据结构Series：基本概念及创建  课程作业\n",
    "# 作业1：分别由字典、数组的方式，创建以下要求的Series\n",
    "\n",
    "import numpy as np\n",
    "import pandas as pd\n",
    "\n",
    "dic = {'Jack':90.0,'Marry':92.0,'Tom':89.0,'Zack':65.0}\n",
    "s1 = pd.Series(dic,name='作业1')\n",
    "print(s1)\n",
    "\n",
    "arr = [90.0,92.0,89.0,65.0]\n",
    "s2 = pd.Series(arr,index=['Jack','Marry','Tom','Zack'],name='作业1')\n",
    "print(s2)"
   ]
  },
  {
   "cell_type": "code",
   "execution_count": 25,
   "metadata": {},
   "outputs": [
    {
     "name": "stdout",
     "output_type": "stream",
     "text": [
      "   one  two  three  four\n",
      "a    1    2      3     4\n",
      "b    2    3      4     5\n",
      "c    3    4      5     6\n",
      "d    4    5      6     7\n",
      "e    5    6      7     8\n"
     ]
    }
   ],
   "source": [
    "# c0303_Pandas数据结构Dataframe：基本概念及创建  课程作业\n",
    "# 作业1：用三种不同的方法，创建以下Dataframe（保证columns和index一致，值不做要求）\n",
    "\n",
    "import numpy as np\n",
    "import pandas as pd\n",
    "\n",
    "data = {'one':np.arange(1,6),\n",
    "        'two':np.arange(2,7),\n",
    "       'three':np.arange(3,8),\n",
    "       'four':np.arange(4,9)\n",
    "       }\n",
    "df = pd.DataFrame(data,index=['a','b','c','d','e'])\n",
    "print(df)"
   ]
  },
  {
   "cell_type": "code",
   "execution_count": null,
   "metadata": {},
   "outputs": [],
   "source": []
  }
 ],
 "metadata": {
  "kernelspec": {
   "display_name": "Python 3",
   "language": "python",
   "name": "python3"
  },
  "language_info": {
   "codemirror_mode": {
    "name": "ipython",
    "version": 3
   },
   "file_extension": ".py",
   "mimetype": "text/x-python",
   "name": "python",
   "nbconvert_exporter": "python",
   "pygments_lexer": "ipython3",
   "version": "3.6.2"
  }
 },
 "nbformat": 4,
 "nbformat_minor": 1
}
