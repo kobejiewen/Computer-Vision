{
 "cells": [
  {
   "cell_type": "code",
   "execution_count": 4,
   "metadata": {},
   "outputs": [
    {
     "name": "stdout",
     "output_type": "stream",
     "text": [
      "Jack     90.0\n",
      "Marry    92.0\n",
      "Tom      89.0\n",
      "Zack     65.0\n",
      "Name: 作业1, dtype: float64\n",
      "Jack     90.0\n",
      "Marry    92.0\n",
      "Tom      89.0\n",
      "Zack     65.0\n",
      "Name: 作业1, dtype: float64\n"
     ]
    }
   ],
   "source": [
    "# c0302_Pandas数据结构Series：基本概念及创建  课程作业\n",
    "# 作业1：分别由字典、数组的方式，创建以下要求的Series\n",
    "\n",
    "import numpy as np\n",
    "import pandas as pd\n",
    "\n",
    "dic = {'Jack':90.0,'Marry':92.0,'Tom':89.0,'Zack':65.0}\n",
    "s1 = pd.Series(dic,name='作业1')\n",
    "print(s1)\n",
    "\n",
    "arr = [90.0,92.0,89.0,65.0]\n",
    "s2 = pd.Series(arr,index=['Jack','Marry','Tom','Zack'],name='作业1')\n",
    "print(s2)"
   ]
  },
  {
   "cell_type": "code",
   "execution_count": 4,
   "metadata": {},
   "outputs": [
    {
     "name": "stdout",
     "output_type": "stream",
     "text": [
      "   one  two  three  four\n",
      "a    1    2      3     4\n",
      "b    2    3      4     5\n",
      "c    3    4      5     6\n",
      "d    4    5      6     7\n",
      "e    5    6      7     8\n"
     ]
    }
   ],
   "source": [
    "# c0303_Pandas数据结构Dataframe：基本概念及创建  课程作业\n",
    "# 作业1：用三种不同的方法，创建以下Dataframe（保证columns和index一致，值不做要求）\n",
    "\n",
    "import numpy as np\n",
    "import pandas as pd\n",
    "\n",
    "data = {'one':np.arange(1,6),\n",
    "        'two':np.arange(2,7),\n",
    "       'three':np.arange(3,8),\n",
    "       'four':np.arange(4,9)\n",
    "       }\n",
    "df = pd.DataFrame(data,index=['a','b','c','d','e'])\n",
    "print(df)"
   ]
  },
  {
   "cell_type": "code",
   "execution_count": 18,
   "metadata": {},
   "outputs": [
    {
     "name": "stdout",
     "output_type": "stream",
     "text": [
      "               a          b          c          d\n",
      "one    30.231527  68.913054  50.961078  75.854510\n",
      "two    93.822830  53.652861  28.155577  58.498578\n",
      "three  98.112547  64.586781  58.179469  21.076785\n",
      "four    3.085902  96.994985  31.763325   4.493568\n",
      "               b          c\n",
      "one    68.913054  50.961078\n",
      "two    53.652861  28.155577\n",
      "three  64.586781  58.179469\n",
      "four   96.994985  31.763325\n",
      "             a          b          c          d\n",
      "two  93.822830  53.652861  28.155577  58.498578\n",
      "one  30.231527  68.913054  50.961078  75.854510\n",
      "             a          b          c          d\n",
      "two  93.822830  53.652861  28.155577  58.498578\n",
      "one  30.231527  68.913054  50.961078  75.854510\n",
      "               a          b          c          d\n",
      "one          NaN  68.913054  50.961078  75.854510\n",
      "two    93.822830  53.652861        NaN  58.498578\n",
      "three  98.112547  64.586781  58.179469        NaN\n",
      "four         NaN  96.994985        NaN        NaN\n"
     ]
    }
   ],
   "source": [
    "#  c0304_索引与切片  课程作业\n",
    "# 作业1：如图创建Dataframe(4*4，值为0-100的随机数)，通过索引得到以下值\n",
    "''' ① 索引得到b，c列的所有值\n",
    "    ② 索引得到第三第四行的数据\n",
    "    ③ 按顺序索引得到two，one行的值\n",
    "    ④ 索引得到大于50的值\n",
    "'''\n",
    "import numpy as np\n",
    "import pandas as pd\n",
    "\n",
    "df = pd.DataFrame(np.random.rand(16).reshape(4,4)*100,\n",
    "                   index = ['one','two','three','four'],\n",
    "                   columns = ['a','b','c','d'])\n",
    "\n",
    "data1 = df[['b','c']]\n",
    "data2 = df.loc[['two','one']]\n",
    "data3 = df.iloc[[1,0]]\n",
    "b1 = df > 50\n",
    "data4 = df[b1]\n",
    "\n",
    "\n",
    "print(df)\n",
    "print(data1)\n",
    "print(data2)\n",
    "print(data3)\n",
    "print(data4)"
   ]
  },
  {
   "cell_type": "code",
   "execution_count": 16,
   "metadata": {},
   "outputs": [
    {
     "name": "stdout",
     "output_type": "stream",
     "text": [
      "          v1         v2         v3\n",
      "a  17.253063  51.522010  61.860594\n",
      "b  10.205461  94.811578  37.346860\n",
      "c  92.674043  13.556578  73.124371\n",
      "          v1         v2         v3\n",
      "c  92.674043  13.556578  73.124371\n",
      "b  10.205461  94.811578  37.346860\n",
      "a  17.253063  51.522010  61.860594\n",
      "          v1         v2         v3\n",
      "b  10.205461  94.811578  37.346860\n",
      "a  17.253063  51.522010  61.860594\n",
      "c  92.674043  13.556578  73.124371\n"
     ]
    }
   ],
   "source": [
    "# c0305_基本技巧  课程作业\n",
    "# 作业1：创建一个3*3，值在0-100区间随机值的Dataframe（如图），分别按照index和第二列值大小，降序排序\n",
    "\n",
    "import numpy as np\n",
    "import pandas as pd\n",
    "\n",
    "df1 = pd.DataFrame(np.random.rand(9).reshape(3,3)*100,columns=['v1','v2','v3'],index=['a','b','c'])\n",
    "print(df1)\n",
    "print(df1.sort_index(ascending=False))\n",
    "print(df1.sort_values(['v2'], ascending = False))"
   ]
  },
  {
   "cell_type": "code",
   "execution_count": 24,
   "metadata": {},
   "outputs": [
    {
     "name": "stdout",
     "output_type": "stream",
     "text": [
      "          v1         v2\n",
      "a  36.514050  67.879416\n",
      "b  49.634874  87.485581\n",
      "c  76.184790  87.066631\n",
      "d   2.149013  98.867503\n",
      "e  65.181848  83.949082\n",
      "            a          b          c          d          e\n",
      "v1  36.514050  49.634874  76.184790   2.149013  65.181848\n",
      "v2  67.879416  87.485581  87.066631  98.867503  83.949082\n",
      "            a          b          c          d\n",
      "v1  36.514050  49.634874  76.184790   2.149013\n",
      "v2  67.879416  87.485581  87.066631  98.867503\n"
     ]
    }
   ],
   "source": [
    "# 作业2：创建一个5*2，值在0-100区间随机值的Dataframe（如图）df1，通过修改得到df2\n",
    "\n",
    "import numpy as np\n",
    "import pandas as pd\n",
    "\n",
    "df1 = pd.DataFrame(np.random.rand(10).reshape(5,2)*100,columns=['v1','v2'],index=['a','b','c','d','e'])\n",
    "print(df1)\n",
    "df2 = df1.T\n",
    "print(df2.drop(['e'], axis = 1))"
   ]
  },
  {
   "cell_type": "code",
   "execution_count": 33,
   "metadata": {},
   "outputs": [
    {
     "name": "stdout",
     "output_type": "stream",
     "text": [
      "a    0\n",
      "b    1\n",
      "c    2\n",
      "d    3\n",
      "e    4\n",
      "f    5\n",
      "g    6\n",
      "h    7\n",
      "i    8\n",
      "j    9\n",
      "dtype: int64\n"
     ]
    }
   ],
   "source": [
    "# 作业3：如图创建Series，并按照要求修改得到结果\n",
    "\n",
    "import numpy as np\n",
    "import pandas as pd\n",
    "\n",
    "dic = {'a':0 ,'b':1 , 'c':2, 'd':3, 'e':4,'f':5 , 'g':6, 'h':7, 'i':8, 'j':9}\n",
    "s = pd.Series(dic)\n",
    "print(s)\n",
    "\n",
    "## TODO"
   ]
  },
  {
   "cell_type": "code",
   "execution_count": 38,
   "metadata": {},
   "outputs": [
    {
     "name": "stdout",
     "output_type": "stream",
     "text": [
      "a    6.559843\n",
      "b    6.452508\n",
      "c    8.828453\n",
      "d    3.529860\n",
      "e    4.473095\n",
      "dtype: float64\n",
      "c    0.647878\n",
      "d    1.053684\n",
      "e    5.207827\n",
      "f    8.706336\n",
      "g    0.433851\n",
      "dtype: float64\n",
      "a         NaN\n",
      "b         NaN\n",
      "c    9.476331\n",
      "d    4.583544\n",
      "e    9.680922\n",
      "f         NaN\n",
      "g         NaN\n",
      "dtype: float64\n"
     ]
    }
   ],
   "source": [
    "# 作业4：已有s1，s2（值为0-10的随机数），请求出s1+s2的值\n",
    "\n",
    "import numpy as np\n",
    "import pandas as pd\n",
    "\n",
    "s1 = pd.Series(np.random.rand(5)*10,index = ['a','b','c','d','e'])\n",
    "s2 = pd.Series(np.random.rand(5)*10,index = ['c','d','e','f','g'])\n",
    "print(s1)\n",
    "print(s2)\n",
    "print(s1+s2)"
   ]
  },
  {
   "cell_type": "code",
   "execution_count": 52,
   "metadata": {},
   "outputs": [
    {
     "name": "stdout",
     "output_type": "stream",
     "text": [
      "        key1       key2\n",
      "0  78.865901  64.064531\n",
      "1  23.446235  64.187695\n",
      "2  39.999120  90.540450\n",
      "3  11.180157  53.253917\n",
      "4  88.063899  85.973941 \n",
      "\n",
      "48.311062453 → key1平均值\n",
      "71.6041067419 → key2平均值\n",
      "39.999120118 → key1中位数\n",
      "64.1876951842 → key2中位数\n",
      "0     78.865901\n",
      "1    102.312137\n",
      "2    142.311257\n",
      "3    153.491413\n",
      "4    241.555312\n",
      "Name: key1, dtype: float64 → key1累计和\n",
      "0     64.064531\n",
      "1    128.252226\n",
      "2    218.792676\n",
      "3    272.046592\n",
      "4    358.020534\n",
      "Name: key2, dtype: float64 → key2累计和\n"
     ]
    }
   ],
   "source": [
    "# c0306_数值计算和统计基础 课程作业\n",
    "# 作业1：如图创建一个Dataframe（5*2，值为0-100的随机值），并分别计算key1和key2的均值、中位数、累积和\n",
    "\n",
    "import numpy as np\n",
    "import pandas as pd\n",
    "\n",
    "df = pd.DataFrame({'key1':np.random.rand(5)*100,\n",
    "                  'key2':np.random.rand(5)*100})\n",
    "print(df,'\\n')\n",
    "print(df['key1'].mean(),'→ key1平均值')\n",
    "print(df['key2'].mean(),'→ key2平均值')\n",
    "print(df['key1'].median(),'→ key1中位数')\n",
    "print(df['key2'].median(),'→ key2中位数')\n",
    "print(df['key1'].cumsum(),'→ key1累计和')\n",
    "print(df['key2'].cumsum(),'→ key2累计和')"
   ]
  },
  {
   "cell_type": "code",
   "execution_count": 85,
   "metadata": {},
   "outputs": [
    {
     "name": "stdout",
     "output_type": "stream",
     "text": [
      "['a' 'b' 'c' 'a' 'b' 'c'] <class 'numpy.ndarray'>\n",
      "['a' 'b' 'c'] <class 'numpy.ndarray'>\n",
      "不是唯一值数组\n"
     ]
    }
   ],
   "source": [
    "# 作业2：写出一个输入元素直接生成数组的代码块，然后创建一个函数，该函数功能用于判断一个Series是否是唯一值数组，返回“是”和“不是”\n",
    "\n",
    "s1 = pd.Series(list('abcabc'))\n",
    "print(s1.values,type(s1.values))\n",
    "sq = s1.unique()\n",
    "print(sq,type(sq))\n",
    "\n",
    "def isUnique(list1,list2):\n",
    "    if list1.size == list2.size:\n",
    "        print('是唯一值数组')\n",
    "    else:\n",
    "        print('不是唯一值数组')\n",
    "        \n",
    "isUnique(s1.values,sq)"
   ]
  },
  {
   "cell_type": "code",
   "execution_count": 104,
   "metadata": {},
   "outputs": [
    {
     "name": "stdout",
     "output_type": "stream",
     "text": [
      "  gender    name math-english\n",
      "0      M    jack        90-90\n",
      "1     M      tom        89-89\n",
      "2      F   marry        90-90\n",
      "3      M    zack        78-78\n",
      "4     F   heheda        60-60\n",
      "--------------------------------------\n",
      "0      JACK\n",
      "1       TOM\n",
      "2     MARRY\n",
      "3      ZACK\n",
      "4    HEHEDA\n",
      "Name: name, dtype: object\n",
      "0    M\n",
      "1    M\n",
      "2    F\n",
      "3    M\n",
      "4    F\n",
      "Name: gender, dtype: object\n",
      "0    [90, 90]\n",
      "1    [89, 89]\n",
      "2    [90, 90]\n",
      "3    [78, 78]\n",
      "4    [60, 60]\n",
      "Name: math-english, dtype: object\n"
     ]
    }
   ],
   "source": [
    "# c0307_文本数据 课程作业\n",
    "# 作业1：如图创建一个Dataframe，并分别通过字符串常用方法得到3个Series或得到新的Dataframe：\n",
    "\"\"\"① name字段首字母全部大写\n",
    "② gender字段去除所有空格\n",
    "③ score字段按照-拆分，分别是math，english，art三个学分\n",
    "\"\"\"\n",
    "\n",
    "import numpy as np\n",
    "import pandas as pd\n",
    "\n",
    "df = pd.DataFrame({'gender':['  M','M ','F',' M','F '],\n",
    "                  'name':['jack','tom','marry','zack','heheda'],\n",
    "                  'math-english':['90-90','89-89','90-90','78-78','60-60']})\n",
    "print(df)\n",
    "print('--------------------------------------')\n",
    "print(df['name'].str.upper())\n",
    "print(df['gender'].str.strip())\n",
    "print(df['math-english'].str.split('-'))"
   ]
  },
  {
   "cell_type": "code",
   "execution_count": 118,
   "metadata": {},
   "outputs": [
    {
     "name": "stdout",
     "output_type": "stream",
     "text": [
      "  key   values1   values2\n",
      "0   a  0.033414       NaN\n",
      "1   b  0.588461  0.033373\n",
      "2   c  0.852552  0.234223\n",
      "3   d       NaN  0.483591\n"
     ]
    }
   ],
   "source": [
    "# c0308_合并、连接、去重、替换  课程作业\n",
    "# 作业1：按要求创建Dataframe df1、df2，并合并成df3\n",
    "\n",
    "import numpy as np\n",
    "import pandas as pd\n",
    "\n",
    "df1 = pd.DataFrame({'key':['a','b','c'],\n",
    "                   'values1':np.random.rand(3)})\n",
    "df2 = pd.DataFrame({'key':['b','c','d'],\n",
    "                   'values2':np.random.rand(3)})\n",
    "\n",
    "print(pd.merge(df1,df2,on='key',how='outer'))"
   ]
  },
  {
   "cell_type": "code",
   "execution_count": 123,
   "metadata": {},
   "outputs": [
    {
     "name": "stdout",
     "output_type": "stream",
     "text": [
      "  1key   values1 rkey   values2\n",
      "0    a  0.329183    a  0.684854\n",
      "1    b  0.828896    b  0.294485\n",
      "2    c  0.855006    c  0.884820\n"
     ]
    }
   ],
   "source": [
    "# 作业2：按要求创建Dataframe df1、df2，并合并成df3\n",
    "\n",
    "df1 = pd.DataFrame({'1key':['a','b','c'],\n",
    "                   'values1':np.random.rand(3)})\n",
    "df2 = pd.DataFrame({'rkey':['a','b','c'],\n",
    "                   'values2':np.random.rand(3)})\n",
    "print(pd.merge(df1,df2,left_on='1key', right_on='rkey'))"
   ]
  },
  {
   "cell_type": "code",
   "execution_count": 131,
   "metadata": {},
   "outputs": [
    {
     "name": "stdout",
     "output_type": "stream",
     "text": [
      "    values1   values2\n",
      "a  0.689074  0.902418\n",
      "b  0.435917  0.754866\n",
      "c  0.070679  0.747816\n",
      "d  0.617545  0.361864\n",
      "e  0.214737  0.187482\n",
      "f  0.106104  0.845640\n",
      "g  0.238992  0.790750\n",
      "h  0.563654  0.549336\n"
     ]
    }
   ],
   "source": [
    "# 作业4：按要求创建Dataframe df1、df2，并连接成df3\n",
    "\n",
    "df1 = pd.DataFrame(np.random.rand(8).reshape(4,2),\n",
    "                  index=['a','b','c','d'],\n",
    "                  columns=['values1','values2'])\n",
    "df2 = pd.DataFrame(np.random.rand(8).reshape(4,2),\n",
    "                  index=['e','f','g','h'],\n",
    "                  columns=['values1','values2'])\n",
    "print(pd.concat([df1,df2]))"
   ]
  },
  {
   "cell_type": "code",
   "execution_count": null,
   "metadata": {},
   "outputs": [],
   "source": []
  }
 ],
 "metadata": {
  "kernelspec": {
   "display_name": "Python 3",
   "language": "python",
   "name": "python3"
  },
  "language_info": {
   "codemirror_mode": {
    "name": "ipython",
    "version": 3
   },
   "file_extension": ".py",
   "mimetype": "text/x-python",
   "name": "python",
   "nbconvert_exporter": "python",
   "pygments_lexer": "ipython3",
   "version": "3.6.2"
  }
 },
 "nbformat": 4,
 "nbformat_minor": 1
}
