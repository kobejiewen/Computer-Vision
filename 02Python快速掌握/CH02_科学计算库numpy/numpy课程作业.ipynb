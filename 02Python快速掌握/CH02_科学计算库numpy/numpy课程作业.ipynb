{
 "cells": [
  {
   "cell_type": "code",
   "execution_count": 15,
   "metadata": {},
   "outputs": [
    {
     "name": "stdout",
     "output_type": "stream",
     "text": [
      "[1 2 'a' 'hello' list([1, 2, 3]) {'two': 200, 'one': 100}] (6,)\n",
      "[['0' '1' '2' '3' '4' '5']\n",
      " ['a' 'b' 'c' 'd' 'e' 'f']\n",
      " ['True' 'False' 'True' 'False' 'True' 'False']] (3, 6)\n"
     ]
    }
   ],
   "source": [
    "# c0202_Numpy基础数据结构_课程作业\n",
    "\n",
    "# 作业1：分别按照要求，生成一个一维数组、二维数组，并且查看其shape\n",
    "\n",
    "import numpy as np\n",
    "ar1 = np.array([1,2,'a','hello',[1,2,3],{'two':200,'one':100}])\n",
    "print(ar1,ar1.shape)\n",
    "\n",
    "ar2 = np.array([[0,1,2,3,4,5,],('a','b','c','d','e','f'),(True,False,True,False,True,False)])\n",
    "print(ar2,ar2.shape)"
   ]
  },
  {
   "cell_type": "code",
   "execution_count": 19,
   "metadata": {},
   "outputs": [
    {
     "name": "stdout",
     "output_type": "stream",
     "text": [
      "[ 5  6  7  8  9 10 11 12 13 14]\n"
     ]
    }
   ],
   "source": [
    "# 作业2：生成一个一维数组，起始值为5，终点值为15，样本数为10个\n",
    "\n",
    "ar3 = np.linspace(5,15,10,dtype=np.int,endpoint=False)\n",
    "print(ar3)"
   ]
  },
  {
   "cell_type": "code",
   "execution_count": 24,
   "metadata": {},
   "outputs": [
    {
     "name": "stdout",
     "output_type": "stream",
     "text": [
      "[[ 0.  0.  0.  0.]\n",
      " [ 0.  0.  0.  0.]\n",
      " [ 0.  0.  0.  0.]\n",
      " [ 0.  0.  0.  0.]]\n",
      "[[ 1.  1.  1.]\n",
      " [ 1.  1.  1.]]\n",
      "[[ 1.  0.  0.]\n",
      " [ 0.  1.  0.]\n",
      " [ 0.  0.  1.]]\n"
     ]
    }
   ],
   "source": [
    "# 作业3：按照要求创建以下数组\n",
    "\n",
    "ar4 = np.zeros((4,4))\n",
    "print(ar4)\n",
    "\n",
    "ar5 = np.ones((2,3))\n",
    "print(ar5)\n",
    "\n",
    "ar6 = np.eye(3)\n",
    "print(ar6)"
   ]
  },
  {
   "cell_type": "code",
   "execution_count": 9,
   "metadata": {},
   "outputs": [
    {
     "name": "stdout",
     "output_type": "stream",
     "text": [
      "[[ 0  1  2  3  4]\n",
      " [ 5  6  7  8  9]\n",
      " [10 11 12 13 14]\n",
      " [15 16 17 18 19]\n",
      " [20 21 22 23 24]]\n",
      "[20 21 22 23 24]\n",
      "[[3 4]\n",
      " [8 9]]\n",
      "17\n"
     ]
    }
   ],
   "source": [
    "# c0203_Numpy索引及切片  课程作业\n",
    "# 作业1：按照要求创建数组，通过索引，其ar[4]、ar[:2,3:]、ar[3][2]分别是多少\n",
    "\n",
    "import numpy as np\n",
    "ar7 = np.arange(25).reshape(5,5)\n",
    "print(ar7)\n",
    "print(ar7[4])\n",
    "print(ar7[:2,3:])\n",
    "print(ar7[3][2])"
   ]
  },
  {
   "cell_type": "code",
   "execution_count": 16,
   "metadata": {},
   "outputs": [
    {
     "name": "stdout",
     "output_type": "stream",
     "text": [
      "[[False False False False False]\n",
      " [False  True  True  True  True]]\n",
      "[6 7 8 9]\n"
     ]
    }
   ],
   "source": [
    "# 作业2：按照要求创建数组，筛选出元素值大于5的值并生成新的数组\n",
    "\n",
    "ar8 = np.arange(10).reshape(2,5)\n",
    "m = ar8 > 5\n",
    "print(m)\n",
    "print(ar8[m])"
   ]
  },
  {
   "cell_type": "code",
   "execution_count": 25,
   "metadata": {},
   "outputs": [
    {
     "name": "stdout",
     "output_type": "stream",
     "text": [
      "[[  0.8699797    0.83218951   2.           3.           4.        ]\n",
      " [  0.10193052   0.03160941   7.           8.           9.        ]\n",
      " [ 10.          11.          12.          13.          14.        ]\n",
      " [ 15.          16.          17.          18.          19.        ]\n",
      " [ 20.          21.          22.          23.          24.        ]]\n"
     ]
    }
   ],
   "source": [
    "# c0204_Numpy随机数  课程作业\n",
    "# 作业1：请按照要求创建数组ar，再将ar[:2,:2]的值改为[0,1)的随机数\n",
    "\n",
    "import numpy as np\n",
    "ar9 = np.arange(25.0).reshape(5,5)\n",
    "rd = np.random.rand(2,2)\n",
    "ar9[:2,:2] = rd\n",
    "print(ar9)"
   ]
  },
  {
   "cell_type": "code",
   "execution_count": 28,
   "metadata": {},
   "outputs": [
    {
     "name": "stdout",
     "output_type": "stream",
     "text": [
      "[ 0.10523529 -0.10643261  1.93922692 -1.36816565 -2.59894331  0.60093999\n",
      " -1.22308445 -0.01404426 -0.55830379  0.45952801]\n",
      "[ 0.32977253  0.52487516  1.08814141  0.85865019  1.75829444 -1.20840481\n",
      "  1.1058643   1.41140412 -1.20633489  1.49306999]\n"
     ]
    }
   ],
   "source": [
    "# 作业2： 创建2个包含10个元素的正太分布一维数组\n",
    "\n",
    "ar10 = np.random.randn(10)\n",
    "ar11 = np.random.randn(10)\n",
    "print(ar10)\n",
    "print(ar11)"
   ]
  },
  {
   "cell_type": "code",
   "execution_count": 6,
   "metadata": {},
   "outputs": [
    {
     "name": "stdout",
     "output_type": "stream",
     "text": [
      "[[ 0  1  2  3  4]\n",
      " [ 5  6  7  8  9]\n",
      " [10 11 12 13 14]\n",
      " [15 16 17 18 19]]\n",
      "[[ 0  1  2  3  4  5]\n",
      " [ 6  7  8  9 10 11]\n",
      " [12 13 14 15 16 17]\n",
      " [18 19  0  1  2  3]\n",
      " [ 4  5  6  7  8  9]]\n"
     ]
    }
   ],
   "source": [
    "# c0205_Numpy通用函数  课程作业\n",
    "# 作业1：创建一个20个元素的数组，分别改变成两个形状：(4,5),(5,6) （提示：超出范围用resize）\n",
    "\n",
    "import numpy as np\n",
    "ar12 = np.reshape(np.arange(20),(4,5))\n",
    "ar13 = np.resize(np.arange(20),(5,6))\n",
    "print(ar12)\n",
    "print(ar13)"
   ]
  },
  {
   "cell_type": "code",
   "execution_count": 9,
   "metadata": {},
   "outputs": [
    {
     "name": "stdout",
     "output_type": "stream",
     "text": [
      "[['0' '1' '2' '3']\n",
      " ['4' '5' '6' '7']\n",
      " ['8' '9' '10' '11']\n",
      " ['12' '13' '14' '15']]\n"
     ]
    }
   ],
   "source": [
    "# 作业2：创建一个(4,4)的数组，把其元素类型改为字符型\n",
    "\n",
    "ar14 = np.reshape(np.arange(16),(4,4))\n",
    "ar15 = ar14.astype(np.str)\n",
    "print(ar15)"
   ]
  },
  {
   "cell_type": "code",
   "execution_count": 14,
   "metadata": {},
   "outputs": [
    {
     "name": "stdout",
     "output_type": "stream",
     "text": [
      "[[100 110 120 130]\n",
      " [140 150 160 170]\n",
      " [180 190 200 210]\n",
      " [220 230 240 250]]\n",
      "175.0\n",
      "2800\n"
     ]
    }
   ],
   "source": [
    "# 作业3：根据要求创建数组，运用数组的运算方法得到结果：result = ar * 10 +100，并求出result的均值及求和\n",
    "\n",
    "ar16 = np.reshape(np.arange(16),(4,4))\n",
    "ar17 = ar16*10 + 100\n",
    "print(ar17)\n",
    "print(ar17.mean())\n",
    "print(ar17.sum())"
   ]
  },
  {
   "cell_type": "code",
   "execution_count": null,
   "metadata": {},
   "outputs": [],
   "source": []
  }
 ],
 "metadata": {
  "kernelspec": {
   "display_name": "Python 3",
   "language": "python",
   "name": "python3"
  },
  "language_info": {
   "codemirror_mode": {
    "name": "ipython",
    "version": 3
   },
   "file_extension": ".py",
   "mimetype": "text/x-python",
   "name": "python",
   "nbconvert_exporter": "python",
   "pygments_lexer": "ipython3",
   "version": "3.6.2"
  }
 },
 "nbformat": 4,
 "nbformat_minor": 2
}
