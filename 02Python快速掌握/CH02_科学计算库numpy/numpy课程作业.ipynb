{
 "cells": [
  {
   "cell_type": "code",
   "execution_count": 15,
   "metadata": {},
   "outputs": [
    {
     "name": "stdout",
     "output_type": "stream",
     "text": [
      "[1 2 'a' 'hello' list([1, 2, 3]) {'two': 200, 'one': 100}] (6,)\n",
      "[['0' '1' '2' '3' '4' '5']\n",
      " ['a' 'b' 'c' 'd' 'e' 'f']\n",
      " ['True' 'False' 'True' 'False' 'True' 'False']] (3, 6)\n"
     ]
    }
   ],
   "source": [
    "# c0202_Numpy基础数据结构_课程作业\n",
    "\n",
    "# 作业1：分别按照要求，生成一个一维数组、二维数组，并且查看其shape\n",
    "\n",
    "import numpy as np\n",
    "ar1 = np.array([1,2,'a','hello',[1,2,3],{'two':200,'one':100}])\n",
    "print(ar1,ar1.shape)\n",
    "\n",
    "ar2 = np.array([[0,1,2,3,4,5,],('a','b','c','d','e','f'),(True,False,True,False,True,False)])\n",
    "print(ar2,ar2.shape)"
   ]
  },
  {
   "cell_type": "code",
   "execution_count": 19,
   "metadata": {},
   "outputs": [
    {
     "name": "stdout",
     "output_type": "stream",
     "text": [
      "[ 5  6  7  8  9 10 11 12 13 14]\n"
     ]
    }
   ],
   "source": [
    "# 作业2：生成一个一维数组，起始值为5，终点值为15，样本数为10个\n",
    "\n",
    "ar3 = np.linspace(5,15,10,dtype=np.int,endpoint=False)\n",
    "print(ar3)"
   ]
  },
  {
   "cell_type": "code",
   "execution_count": 24,
   "metadata": {},
   "outputs": [
    {
     "name": "stdout",
     "output_type": "stream",
     "text": [
      "[[ 0.  0.  0.  0.]\n",
      " [ 0.  0.  0.  0.]\n",
      " [ 0.  0.  0.  0.]\n",
      " [ 0.  0.  0.  0.]]\n",
      "[[ 1.  1.  1.]\n",
      " [ 1.  1.  1.]]\n",
      "[[ 1.  0.  0.]\n",
      " [ 0.  1.  0.]\n",
      " [ 0.  0.  1.]]\n"
     ]
    }
   ],
   "source": [
    "# 作业3：按照要求创建以下数组\n",
    "\n",
    "ar4 = np.zeros((4,4))\n",
    "print(ar4)\n",
    "\n",
    "ar5 = np.ones((2,3))\n",
    "print(ar5)\n",
    "\n",
    "ar6 = np.eye(3)\n",
    "print(ar6)"
   ]
  },
  {
   "cell_type": "code",
   "execution_count": null,
   "metadata": {},
   "outputs": [],
   "source": []
  }
 ],
 "metadata": {
  "kernelspec": {
   "display_name": "Python 3",
   "language": "python",
   "name": "python3"
  },
  "language_info": {
   "codemirror_mode": {
    "name": "ipython",
    "version": 3
   },
   "file_extension": ".py",
   "mimetype": "text/x-python",
   "name": "python",
   "nbconvert_exporter": "python",
   "pygments_lexer": "ipython3",
   "version": "3.6.2"
  }
 },
 "nbformat": 4,
 "nbformat_minor": 2
}
